{
 "cells": [
  {
   "cell_type": "markdown",
   "id": "e1864242",
   "metadata": {},
   "source": [
    "# Step 2 - Baseline Model"
   ]
  },
  {
   "cell_type": "markdown",
   "id": "4e4802f3",
   "metadata": {},
   "source": [
    "## Train a TFIDF with Naive Bayes Baseline Model"
   ]
  },
  {
   "cell_type": "code",
   "execution_count": 1,
   "id": "5427ea46",
   "metadata": {},
   "outputs": [
    {
     "name": "stdout",
     "output_type": "stream",
     "text": [
      "Imports successful\n"
     ]
    }
   ],
   "source": [
    "import pandas as pd \n",
    "import matplotlib.pyplot as plt\n",
    "import numpy as np\n",
    "import seaborn as sns\n",
    "\n",
    "from sklearn.model_selection import train_test_split\n",
    "from sklearn.feature_extraction.text import TfidfVectorizer, CountVectorizer\n",
    "from sklearn.naive_bayes import MultinomialNB, GaussianNB, CategoricalNB \n",
    "from sklearn import metrics\n",
    "from sklearn.metrics import plot_confusion_matrix\n",
    "\n",
    "\n",
    "from collections import Counter\n",
    "\n",
    "\n",
    "print(\"Imports successful\")"
   ]
  },
  {
   "cell_type": "code",
   "execution_count": 2,
   "id": "4af78899-b250-4f73-bad9-3d8a632edd6f",
   "metadata": {},
   "outputs": [
    {
     "name": "stdout",
     "output_type": "stream",
     "text": [
      "Original category count: Counter({'Kitaifa': 2000, 'michezo': 1720, 'Biashara': 1360, 'Kimataifa': 54, 'Burudani': 17})\n",
      "Train category count: Counter({'Kitaifa': 1399, 'michezo': 1204, 'Biashara': 952, 'Kimataifa': 38, 'Burudani': 12})\n",
      "Development category count: Counter({'Kitaifa': 601, 'michezo': 516, 'Biashara': 408, 'Kimataifa': 16, 'Burudani': 5})\n",
      "\n",
      "Train x shape: (3605,)\n",
      "Development x shape: (1546,)\n",
      "\n",
      "Train y shape: (3605,)\n",
      "Development y shape: (1546,)\n"
     ]
    }
   ],
   "source": [
    "# Check out our training\n",
    "df = pd.read_csv(\"./Data/Train.csv\")\n",
    "test_df = pd.read_csv(\"./Data/Test.csv\")\n",
    "\n",
    "original_x = df[\"content\"]\n",
    "original_y = df[\"category\"]\n",
    "\n",
    "# display(original_x)\n",
    "# display(original_y)\n",
    "# display(df)\n",
    "\n",
    "## TODO: We need to split the training data into train and dev, since we will be doing some hyper parameter optimization\n",
    "## but we know from our data exploration that our data is skewed. \n",
    "## We want to do stratified selection to ensure that each class is represented in the dev set\n",
    "original_category_counts = Counter(df[\"category\"])\n",
    "print(\"Original category count:\", original_category_counts)\n",
    "\n",
    "#Split data\n",
    "train_x, dev_x, train_y, dev_y = train_test_split(original_x, original_y, train_size=0.7, stratify=original_y)\n",
    "\n",
    "#Check category sizes\n",
    "train_category_counts = Counter(train_y)\n",
    "print(\"Train category count:\", train_category_counts)\n",
    "dev_category_counts = Counter(dev_y)\n",
    "print(\"Development category count:\", dev_category_counts)\n",
    "\n",
    "#Print shapes of dataframes\n",
    "print(\"\\nTrain x shape:\", train_x.shape)\n",
    "print(\"Development x shape:\", dev_x.shape)\n",
    "\n",
    "print(\"\\nTrain y shape:\", train_y.shape)\n",
    "print(\"Development y shape:\", dev_y.shape)"
   ]
  },
  {
   "cell_type": "code",
   "execution_count": 3,
   "id": "4494d87f-02b9-4e38-9686-dc5941ec2844",
   "metadata": {},
   "outputs": [
    {
     "data": {
      "text/plain": [
       "<AxesSubplot:xlabel='category', ylabel='count'>"
      ]
     },
     "execution_count": 3,
     "metadata": {},
     "output_type": "execute_result"
    },
    {
     "data": {
      "image/png": "[encoded data removed]",
      "text/plain": [
       "<Figure size 432x288 with 1 Axes>"
      ]
     },
     "metadata": {
      "needs_background": "light"
     },
     "output_type": "display_data"
    }
   ],
   "source": [
    "# visual check of stratified data\n",
    "# original data first \n",
    "sns.countplot(x=\"category\", data=df)"
   ]
  },
  {
   "cell_type": "code",
   "execution_count": 4,
   "id": "f8971131-d5b4-41d2-bdb5-debb2f97caa6",
   "metadata": {},
   "outputs": [
    {
     "data": {
      "text/plain": [
       "<BarContainer object of 5 artists>"
      ]
     },
     "execution_count": 4,
     "metadata": {},
     "output_type": "execute_result"
    },
    {
     "data": {
      "image/png": "[encoded data removed]",
      "text/plain": [
       "<Figure size 432x288 with 1 Axes>"
      ]
     },
     "metadata": {
      "needs_background": "light"
     },
     "output_type": "display_data"
    }
   ],
   "source": [
    "plt.bar(train_category_counts.keys(), train_category_counts.values())"
   ]
  },
  {
   "cell_type": "code",
   "execution_count": 5,
   "id": "b055892a-4047-458d-9820-9d3513ce0d0e",
   "metadata": {},
   "outputs": [
    {
     "data": {
      "text/plain": [
       "<BarContainer object of 5 artists>"
      ]
     },
     "execution_count": 5,
     "metadata": {},
     "output_type": "execute_result"
    },
    {
     "data": {
      "image/png": "[encoded data removed]",
      "text/plain": [
       "<Figure size 432x288 with 1 Axes>"
      ]
     },
     "metadata": {
      "needs_background": "light"
     },
     "output_type": "display_data"
    }
   ],
   "source": [
    "plt.bar(dev_category_counts.keys(), dev_category_counts.values())"
   ]
  },
  {
   "cell_type": "code",
   "execution_count": 3,
   "id": "20eff24c",
   "metadata": {},
   "outputs": [
    {
     "data": {
      "text/plain": [
       "MultinomialNB()"
      ]
     },
     "execution_count": 3,
     "metadata": {},
     "output_type": "execute_result"
    }
   ],
   "source": [
    "## TODO: Train a TF-IDF with Naive Bayes Baseline Model, using sklearn\n",
    "vectorizer = CountVectorizer() # or term frequency\n",
    "\n",
    "tf_train_x = vectorizer.fit_transform(train_x)\n",
    "tf_dev_x = vectorizer.transform(dev_x)\n",
    "\n",
    "NB_classifier = MultinomialNB()\n",
    "NB_classifier.fit(tf_train_x, train_y)"
   ]
  },
  {
   "cell_type": "code",
   "execution_count": 11,
   "id": "066cc869",
   "metadata": {},
   "outputs": [
    {
     "name": "stdout",
     "output_type": "stream",
     "text": [
      "ORIGINAL MODEL\n",
      "------------------------\n",
      "Accuracy:   0.832\n",
      "\n",
      "Log loss:   3.768\n",
      "\n",
      "Micro f1:   0.832\n",
      "\n",
      "Macro f1:   0.503\n",
      "\n"
     ]
    }
   ],
   "source": [
    "## TODO: Report the accuracy, log loss, and macro and micro F1 Scores. \n",
    "\n",
    "y_pred = NB_classifier.predict(tf_dev_x)\n",
    "y_pred_probs = NB_classifier.predict_proba(tf_dev_x)\n",
    "\n",
    "print(\"ORIGINAL MODEL\\n------------------------\")\n",
    "\n",
    "#Accuracy\n",
    "accuracy = metrics.accuracy_score(dev_y, y_pred)\n",
    "print(\"Accuracy:   %0.3f\\n\" % accuracy)\n",
    "\n",
    "#Log loss\n",
    "log_loss = metrics.log_loss(dev_y, y_pred_probs)\n",
    "print(\"Log loss:   %0.3f\\n\" % log_loss)\n",
    "\n",
    "#Micro F1\n",
    "micro_f1 = metrics.f1_score(dev_y, y_pred, average=\"micro\")\n",
    "print(\"Micro f1:   %0.3f\\n\" % micro_f1)\n",
    "\n",
    "#Macro F1\n",
    "macro_f1 = metrics.f1_score(dev_y, y_pred, average=\"macro\")\n",
    "print(\"Macro f1:   %0.3f\\n\" % macro_f1)\n",
    "\n",
    "# #Unnormalized Confusion Matrix\n",
    "# plot_confusion_matrix(NB_classifier, tf_dev_x, dev_y)\n",
    "# plt.title(\"Unnormalized confusion matrix\")\n",
    "# plt.show()\n",
    "\n",
    "# #Normalized Confusion Matrix\n",
    "# plot_confusion_matrix(NB_classifier, tf_dev_x, dev_y, normalize=\"true\")\n",
    "# plt.title(\"Normalized confusion matrix\")\n",
    "# plt.show()"
   ]
  },
  {
   "cell_type": "markdown",
   "id": "5b9d5f92",
   "metadata": {},
   "source": [
    "## Analysis\n",
    "\n",
    "According to our Macro F1 Score compared to our Micro F1 Score, we're likely not doing well when classifying the minority classes. Let's do a bit of hyper-parameter optimization to see if we can improve our result at all:"
   ]
  },
  {
   "cell_type": "markdown",
   "id": "0c11ee60",
   "metadata": {},
   "source": [
    "## Hyper Parameter Optimization"
   ]
  },
  {
   "cell_type": "code",
   "execution_count": 14,
   "id": "594c66da",
   "metadata": {},
   "outputs": [
    {
     "name": "stdout",
     "output_type": "stream",
     "text": [
      "Fitting 10 folds for each of 100 candidates, totalling 1000 fits\n",
      "MultinomialNB(alpha=0.7575757575757576)\n"
     ]
    }
   ],
   "source": [
    "from sklearn.model_selection import GridSearchCV\n",
    "\n",
    "## TODO: Let's do a grid search optimization \n",
    "parameters = {\n",
    "#     'alpha': [0.01, 0.025, 0.1, 0.25, 0.5, 0.75, 1.0, 2.5, 5, 7.5, 10],\n",
    "    'alpha': np.linspace(0,5,num=100),\n",
    "    \n",
    "}\n",
    "\n",
    "NB_tuned = GridSearchCV(estimator=MultinomialNB(), param_grid=parameters, verbose=1, cv=10, n_jobs=-1)\n",
    "NB_tuned.fit(tf_train_x, train_y)\n",
    "print(NB_tuned.best_estimator_)\n",
    "# <your code here>"
   ]
  },
  {
   "cell_type": "code",
   "execution_count": 15,
   "id": "a0c05f0d",
   "metadata": {},
   "outputs": [
    {
     "name": "stdout",
     "output_type": "stream",
     "text": [
      "TUNED MODEL\n",
      "------------------------\n",
      "Accuracy:   0.836\n",
      "\n",
      "Log loss:   3.749\n",
      "\n",
      "Micro f1:   0.836\n",
      "\n",
      "Macro f1:   0.506\n",
      "\n"
     ]
    }
   ],
   "source": [
    "## Report on accuracy, log loss and macro and micro F1 score. \n",
    "## TODO: Report the accuracy, log loss, and macro and micro F1 Scores. \n",
    "\n",
    "y_pred = NB_tuned.predict(tf_dev_x)\n",
    "y_pred_probs = NB_tuned.predict_proba(tf_dev_x)\n",
    "\n",
    "print(\"TUNED MODEL\\n------------------------\")\n",
    "\n",
    "#Accuracy\n",
    "accuracy = metrics.accuracy_score(dev_y, y_pred)\n",
    "print(\"Accuracy:   %0.3f\\n\" % accuracy)\n",
    "\n",
    "#Log loss\n",
    "log_loss = metrics.log_loss(dev_y, y_pred_probs)\n",
    "print(\"Log loss:   %0.3f\\n\" % log_loss)\n",
    "\n",
    "#Micro F1\n",
    "micro_f1 = metrics.f1_score(dev_y, y_pred, average=\"micro\")\n",
    "print(\"Micro f1:   %0.3f\\n\" % micro_f1)\n",
    "\n",
    "#Macro F1\n",
    "macro_f1 = metrics.f1_score(dev_y, y_pred, average=\"macro\")\n",
    "print(\"Macro f1:   %0.3f\\n\" % macro_f1)\n",
    "# <your code here>"
   ]
  },
  {
   "cell_type": "markdown",
   "id": "f5075b0a",
   "metadata": {},
   "source": [
    "## Analysis\n",
    "\n",
    "Analyze the effects of hyper parameter optimization. Did it improve? Did it get worse?\n",
    "\n",
    "Looking at our loss and accuracy results, there was a very slight improvement. The macro and micro F1 scores remain mediocre."
   ]
  },
  {
   "cell_type": "markdown",
   "id": "2860deed",
   "metadata": {},
   "source": [
    "# Error Analysis\n",
    "\n",
    "To understand more about the problems of our model, we need to do some error analysis!\n",
    "\n",
    "Error analysis typically involves looking at the misclassifications of the model. We typically inspect the dev set."
   ]
  },
  {
   "cell_type": "code",
   "execution_count": 16,
   "id": "598c009f",
   "metadata": {},
   "outputs": [
    {
     "data": {
      "image/png": "[encoded data removed]",
      "text/plain": [
       "<Figure size 432x288 with 2 Axes>"
      ]
     },
     "metadata": {
      "needs_background": "light"
     },
     "output_type": "display_data"
    },
    {
     "data": {
      "image/png": "[encoded data removed]",
      "text/plain": [
       "<Figure size 432x288 with 2 Axes>"
      ]
     },
     "metadata": {
      "needs_background": "light"
     },
     "output_type": "display_data"
    }
   ],
   "source": [
    "# Let's look at the misclassifications\n",
    "\n",
    "#Unnormalized Confusion Matrix\n",
    "plot_confusion_matrix(NB_tuned, tf_dev_x, dev_y)\n",
    "plt.title(\"Unnormalized confusion matrix\")\n",
    "plt.show()\n",
    "\n",
    "#Normalized Confusion Matrix\n",
    "plot_confusion_matrix(NB_tuned, tf_dev_x, dev_y, normalize=\"true\")\n",
    "plt.title(\"Normalized confusion matrix\")\n",
    "plt.show()\n",
    "# <TODO: Output a graph which will show how the target classes were misclassified. "
   ]
  },
  {
   "cell_type": "markdown",
   "id": "fb9d1a4c",
   "metadata": {},
   "source": [
    "## Analysis\n",
    "\n",
    "1. Is the model performing poorly on any classes? \n",
    "\n",
    "The model performs very poorly on the under-represented classes of Kimataifa and Burudani, with a clear bias towards the overrepresented classes of Kitaifa and Michezo.\n",
    "\n",
    "2. Given the model we're using, why is that the case?\n",
    "\n",
    "This is very likely to be due to the extremely small number of samples from the Kimataifa and Burudani classes, the model achieves a decent overall accuracy by just misclassifying the underrepresented classes as one of the classes that makes up the majority of the samples."
   ]
  },
  {
   "cell_type": "code",
   "execution_count": 8,
   "id": "463becec",
   "metadata": {},
   "outputs": [],
   "source": [
    "# TODO: Take a look at the worst performing category and see what it's getting misclassified as. \n",
    "\n",
    "# <Your code here to output some samples>, the predicted category and the correct target category "
   ]
  },
  {
   "cell_type": "markdown",
   "id": "a873adf3",
   "metadata": {},
   "source": [
    "## Analysis\n",
    "\n",
    "1. Provide a possible reason why that misclassification is occuring.\n",
    "2. What recommendations would give as possible next steps for improving performance on this model? "
   ]
  },
  {
   "cell_type": "code",
   "execution_count": 9,
   "id": "8142e320",
   "metadata": {},
   "outputs": [],
   "source": [
    "# TODO: Save your results in a csv called results.csv"
   ]
  }
 ],
 "metadata": {
  "interpreter": {
   "hash": "a3ec8f5d450910ae9e345d2d6b71e2a1cdfe39f783d83bbc796650da91e67631"
  },
  "kernelspec": {
   "display_name": "Python 3",
   "language": "python",
   "name": "python3"
  },
  "language_info": {
   "codemirror_mode": {
    "name": "ipython",
    "version": 3
   },
   "file_extension": ".py",
   "mimetype": "text/x-python",
   "name": "python",
   "nbconvert_exporter": "python",
   "pygments_lexer": "ipython3",
   "version": "3.8.8"
  }
 },
 "nbformat": 4,
 "nbformat_minor": 5
}
