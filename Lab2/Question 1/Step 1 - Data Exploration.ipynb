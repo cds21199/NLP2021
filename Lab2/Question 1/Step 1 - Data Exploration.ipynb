{
 "cells": [
  {
   "cell_type": "markdown",
   "id": "athletic-lincoln",
   "metadata": {},
   "source": [
    "# Step 1 - Data Exploration\n",
    "\n",
    "## Installation and Imports"
   ]
  },
  {
   "cell_type": "code",
   "execution_count": 18,
   "id": "dynamic-arkansas",
   "metadata": {},
   "outputs": [
    {
     "name": "stdout",
     "output_type": "stream",
     "text": [
      "Requirement already satisfied: pandas in /home/jade/.virtualenvs/kalido/lib/python3.8/site-packages (1.1.2)\n",
      "Requirement already satisfied: numpy>=1.15.4 in /home/jade/.virtualenvs/kalido/lib/python3.8/site-packages (from pandas) (1.20.1)\n",
      "Requirement already satisfied: python-dateutil>=2.7.3 in /home/jade/.virtualenvs/kalido/lib/python3.8/site-packages (from pandas) (2.8.1)\n",
      "Requirement already satisfied: pytz>=2017.2 in /home/jade/.virtualenvs/kalido/lib/python3.8/site-packages (from pandas) (2020.1)\n",
      "Requirement already satisfied: six>=1.5 in /home/jade/.virtualenvs/kalido/lib/python3.8/site-packages (from python-dateutil>=2.7.3->pandas) (1.15.0)\n",
      "\u001b[33mWARNING: You are using pip version 21.0.1; however, version 21.1.3 is available.\n",
      "You should consider upgrading via the '/home/jade/.virtualenvs/kalido/bin/python -m pip install --upgrade pip' command.\u001b[0m\n",
      "Requirement already satisfied: langdetect in /home/jade/.virtualenvs/kalido/lib/python3.8/site-packages (1.0.9)\n",
      "Requirement already satisfied: six in /home/jade/.virtualenvs/kalido/lib/python3.8/site-packages (from langdetect) (1.15.0)\n",
      "\u001b[33mWARNING: You are using pip version 21.0.1; however, version 21.1.3 is available.\n",
      "You should consider upgrading via the '/home/jade/.virtualenvs/kalido/bin/python -m pip install --upgrade pip' command.\u001b[0m\n",
      "Collecting seaborn\n",
      "  Downloading seaborn-0.11.1-py3-none-any.whl (285 kB)\n",
      "\u001b[K     |████████████████████████████████| 285 kB 3.1 MB/s eta 0:00:01\n",
      "\u001b[?25hRequirement already satisfied: pandas>=0.23 in /home/jade/.virtualenvs/kalido/lib/python3.8/site-packages (from seaborn) (1.1.2)\n",
      "Requirement already satisfied: scipy>=1.0 in /home/jade/.virtualenvs/kalido/lib/python3.8/site-packages (from seaborn) (1.5.2)\n",
      "Requirement already satisfied: numpy>=1.15 in /home/jade/.virtualenvs/kalido/lib/python3.8/site-packages (from seaborn) (1.20.1)\n",
      "Requirement already satisfied: matplotlib>=2.2 in /home/jade/.virtualenvs/kalido/lib/python3.8/site-packages (from seaborn) (3.3.1)\n",
      "Requirement already satisfied: cycler>=0.10 in /home/jade/.virtualenvs/kalido/lib/python3.8/site-packages (from matplotlib>=2.2->seaborn) (0.10.0)\n",
      "Requirement already satisfied: kiwisolver>=1.0.1 in /home/jade/.virtualenvs/kalido/lib/python3.8/site-packages (from matplotlib>=2.2->seaborn) (1.2.0)\n",
      "Requirement already satisfied: python-dateutil>=2.1 in /home/jade/.virtualenvs/kalido/lib/python3.8/site-packages (from matplotlib>=2.2->seaborn) (2.8.1)\n",
      "Requirement already satisfied: pyparsing!=2.0.4,!=2.1.2,!=2.1.6,>=2.0.3 in /home/jade/.virtualenvs/kalido/lib/python3.8/site-packages (from matplotlib>=2.2->seaborn) (2.4.7)\n",
      "Requirement already satisfied: certifi>=2020.06.20 in /home/jade/.virtualenvs/kalido/lib/python3.8/site-packages (from matplotlib>=2.2->seaborn) (2020.6.20)\n",
      "Requirement already satisfied: pillow>=6.2.0 in /home/jade/.virtualenvs/kalido/lib/python3.8/site-packages (from matplotlib>=2.2->seaborn) (7.2.0)\n",
      "Requirement already satisfied: six in /home/jade/.virtualenvs/kalido/lib/python3.8/site-packages (from cycler>=0.10->matplotlib>=2.2->seaborn) (1.15.0)\n",
      "Requirement already satisfied: pytz>=2017.2 in /home/jade/.virtualenvs/kalido/lib/python3.8/site-packages (from pandas>=0.23->seaborn) (2020.1)\n",
      "Installing collected packages: seaborn\n",
      "Successfully installed seaborn-0.11.1\n",
      "\u001b[33mWARNING: You are using pip version 21.0.1; however, version 21.1.3 is available.\n",
      "You should consider upgrading via the '/home/jade/.virtualenvs/kalido/bin/python -m pip install --upgrade pip' command.\u001b[0m\n"
     ]
    }
   ],
   "source": [
    "!pip install pandas\n",
    "!pip install langdetect\n",
    "!pip install seaborn\n",
    "!pip install nltk"
   ]
  },
  {
   "cell_type": "code",
   "execution_count": 21,
   "id": "compliant-ceramic",
   "metadata": {},
   "outputs": [],
   "source": [
    "import pandas as pd\n",
    "from langdetect import detect, detect_langs\n",
    "import seaborn as sns\n",
    "import ntlk"
   ]
  },
  {
   "cell_type": "code",
   "execution_count": 2,
   "id": "impressed-graduate",
   "metadata": {},
   "outputs": [
    {
     "name": "stdout",
     "output_type": "stream",
     "text": [
      "Variable Definitions,\r",
      "\r\n",
      "id,Unique identifier for each news\r",
      "\r\n",
      "content,Full details about particular news\r",
      "\r\n",
      "Category,The specific category of a particular news\r",
      "\r\n"
     ]
    }
   ],
   "source": [
    "!cat ./Data/VariableDefinitions.csv"
   ]
  },
  {
   "cell_type": "markdown",
   "id": "second-eight",
   "metadata": {},
   "source": [
    "## Load datasets and basic statistics"
   ]
  },
  {
   "cell_type": "code",
   "execution_count": 58,
   "id": "imported-assault",
   "metadata": {},
   "outputs": [
    {
     "data": {
      "text/html": [
       "<div>\n",
       "<style scoped>\n",
       "    .dataframe tbody tr th:only-of-type {\n",
       "        vertical-align: middle;\n",
       "    }\n",
       "\n",
       "    .dataframe tbody tr th {\n",
       "        vertical-align: top;\n",
       "    }\n",
       "\n",
       "    .dataframe thead th {\n",
       "        text-align: right;\n",
       "    }\n",
       "</style>\n",
       "<table border=\"1\" class=\"dataframe\">\n",
       "  <thead>\n",
       "    <tr style=\"text-align: right;\">\n",
       "      <th></th>\n",
       "      <th>id</th>\n",
       "      <th>content</th>\n",
       "      <th>category</th>\n",
       "    </tr>\n",
       "  </thead>\n",
       "  <tbody>\n",
       "    <tr>\n",
       "      <th>0</th>\n",
       "      <td>SW0</td>\n",
       "      <td>SERIKALI imesema haitakuwa tayari kuona amani...</td>\n",
       "      <td>Kitaifa</td>\n",
       "    </tr>\n",
       "    <tr>\n",
       "      <th>1</th>\n",
       "      <td>SW1</td>\n",
       "      <td>Mkuu wa Mkoa wa Tabora, Aggrey Mwanri amesiti...</td>\n",
       "      <td>Biashara</td>\n",
       "    </tr>\n",
       "    <tr>\n",
       "      <th>2</th>\n",
       "      <td>SW10</td>\n",
       "      <td>SERIKALI imetoa miezi sita kwa taasisi zote z...</td>\n",
       "      <td>Kitaifa</td>\n",
       "    </tr>\n",
       "  </tbody>\n",
       "</table>\n",
       "</div>"
      ],
      "text/plain": [
       "     id                                            content  category\n",
       "0   SW0   SERIKALI imesema haitakuwa tayari kuona amani...   Kitaifa\n",
       "1   SW1   Mkuu wa Mkoa wa Tabora, Aggrey Mwanri amesiti...  Biashara\n",
       "2  SW10   SERIKALI imetoa miezi sita kwa taasisi zote z...   Kitaifa"
      ]
     },
     "execution_count": 58,
     "metadata": {},
     "output_type": "execute_result"
    }
   ],
   "source": [
    "# Check out our training\n",
    "train_df = pd.read_csv(\"./Data/Train.csv\")\n",
    "train_df.head(3)"
   ]
  },
  {
   "cell_type": "code",
   "execution_count": 59,
   "id": "running-potter",
   "metadata": {},
   "outputs": [
    {
     "data": {
      "text/html": [
       "<div>\n",
       "<style scoped>\n",
       "    .dataframe tbody tr th:only-of-type {\n",
       "        vertical-align: middle;\n",
       "    }\n",
       "\n",
       "    .dataframe tbody tr th {\n",
       "        vertical-align: top;\n",
       "    }\n",
       "\n",
       "    .dataframe thead th {\n",
       "        text-align: right;\n",
       "    }\n",
       "</style>\n",
       "<table border=\"1\" class=\"dataframe\">\n",
       "  <thead>\n",
       "    <tr style=\"text-align: right;\">\n",
       "      <th></th>\n",
       "      <th>swahili_id</th>\n",
       "      <th>content</th>\n",
       "    </tr>\n",
       "  </thead>\n",
       "  <tbody>\n",
       "    <tr>\n",
       "      <th>0</th>\n",
       "      <td>001dd47ac202d9db6624a5ff734a5e7dddafeaf2</td>\n",
       "      <td>MKUU wa Wilaya ya Bahi, Mkoani Dodoma, Mwanah...</td>\n",
       "    </tr>\n",
       "    <tr>\n",
       "      <th>1</th>\n",
       "      <td>0043d97f7690e9bc02f0ed8bb2b260d1d44bad92</td>\n",
       "      <td>MWISHONI mwa wiki hii, Timu ya Soka ya Taifa,...</td>\n",
       "    </tr>\n",
       "    <tr>\n",
       "      <th>2</th>\n",
       "      <td>00579c2307b5c11003d21c40c3ecff5e922c3fd8</td>\n",
       "      <td>THAMANI ya mauzo ya bidhaa za Afrika Masharik...</td>\n",
       "    </tr>\n",
       "  </tbody>\n",
       "</table>\n",
       "</div>"
      ],
      "text/plain": [
       "                                 swahili_id  \\\n",
       "0  001dd47ac202d9db6624a5ff734a5e7dddafeaf2   \n",
       "1  0043d97f7690e9bc02f0ed8bb2b260d1d44bad92   \n",
       "2  00579c2307b5c11003d21c40c3ecff5e922c3fd8   \n",
       "\n",
       "                                             content  \n",
       "0   MKUU wa Wilaya ya Bahi, Mkoani Dodoma, Mwanah...  \n",
       "1   MWISHONI mwa wiki hii, Timu ya Soka ya Taifa,...  \n",
       "2   THAMANI ya mauzo ya bidhaa za Afrika Masharik...  "
      ]
     },
     "execution_count": 59,
     "metadata": {},
     "output_type": "execute_result"
    }
   ],
   "source": [
    "# Check out test\n",
    "test_df = pd.read_csv(\"./Data/Test.csv\")\n",
    "test_df.head(3)"
   ]
  },
  {
   "cell_type": "code",
   "execution_count": 60,
   "id": "stylish-effects",
   "metadata": {},
   "outputs": [
    {
     "name": "stdout",
     "output_type": "stream",
     "text": [
      "Number of training patterns: 5151\n",
      "Categories: ['Kitaifa' 'Biashara' 'michezo' 'Kimataifa' 'Burudani']\n",
      "Number of test patterns: 1288\n"
     ]
    }
   ],
   "source": [
    "print(\"Number of training patterns: %d\" % len(train_df))\n",
    "print(\"Categories: %s\" % str(train_df.category.unique()))\n",
    "print(\"Number of test patterns: %d\" % len(test_df))"
   ]
  },
  {
   "cell_type": "markdown",
   "id": "scientific-interaction",
   "metadata": {},
   "source": [
    "## How balanced are the news categories?"
   ]
  },
  {
   "cell_type": "code",
   "execution_count": 31,
   "id": "offshore-cancer",
   "metadata": {},
   "outputs": [
    {
     "data": {
      "text/plain": [
       "<AxesSubplot:xlabel='category', ylabel='count'>"
      ]
     },
     "execution_count": 31,
     "metadata": {},
     "output_type": "execute_result"
    },
    {
     "data": {
      "image/png": "[encoded data removed]",
      "text/plain": [
       "<Figure size 432x288 with 1 Axes>"
      ]
     },
     "metadata": {
      "needs_background": "light"
     },
     "output_type": "display_data"
    }
   ],
   "source": [
    "# Check how balanced our dataset is.\n",
    "sns.countplot(x=\"category\", data=train_df)"
   ]
  },
  {
   "cell_type": "code",
   "execution_count": 53,
   "id": "pretty-spain",
   "metadata": {},
   "outputs": [
    {
     "name": "stdout",
     "output_type": "stream",
     "text": [
      "Number of Burudani patterns: 17\n",
      "Number of Kimataifa patterns: 54\n"
     ]
    }
   ],
   "source": [
    "print(\"Number of Burudani patterns: %d\" % len(train_df[train_df['category'] == 'Burudani']))\n",
    "print(\"Number of Kimataifa patterns: %d\" % len(train_df[train_df['category'] == 'Kimataifa']))"
   ]
  },
  {
   "cell_type": "markdown",
   "id": "exact-richards",
   "metadata": {},
   "source": [
    "Based on the above, we can see that our dataset is heavily skewed towards \"Kataifa\", \"Biashara\" and \"michezo\" categories. With VERY FEW in the category of Burudani or Kimataifa\n",
    "\n",
    "Bit of research:\n",
    "- Kitaifa = National\n",
    "- Biashara = Business\n",
    "- Michezo = Sports\n",
    "- Kimataifa = International\n",
    "- Burudani = Entertainment"
   ]
  },
  {
   "cell_type": "code",
   "execution_count": 37,
   "id": "inside-strength",
   "metadata": {},
   "outputs": [
    {
     "name": "stdout",
     "output_type": "stream",
     "text": [
      "Number of nulls in content: 0\n"
     ]
    },
    {
     "data": {
      "text/plain": [
       "<seaborn.axisgrid.FacetGrid at 0x7f3d8a54fbe0>"
      ]
     },
     "execution_count": 37,
     "metadata": {},
     "output_type": "execute_result"
    },
    {
     "data": {
      "image/png": "[encoded data removed]",
      "text/plain": [
       "<Figure size 360x360 with 1 Axes>"
      ]
     },
     "metadata": {
      "needs_background": "light"
     },
     "output_type": "display_data"
    },
    {
     "data": {
      "image/png": "[encoded data removed]",
      "text/plain": [
       "<Figure size 360x360 with 1 Axes>"
      ]
     },
     "metadata": {
      "needs_background": "light"
     },
     "output_type": "display_data"
    }
   ],
   "source": [
    "# Are there any nulls?\n",
    "print(\"Number of nulls in content: %d\" % train_df[\"content\"].isna().sum())\n",
    "\n",
    "\n",
    "# How large is the content of each news article in test? \n",
    "train_df['len'] = train_df['content'].apply(lambda x: len(x))\n",
    "train_df['num_words'] = train_df['content'].apply(lambda x: len(x.split(\" \")))\n",
    "\n",
    "test_df['len'] = test_df['content'].apply(lambda x: len(x))\n",
    "test_df['num_words'] = test_df['content'].apply(lambda x: len(x.split(\" \")))\n",
    "\n",
    "# Plot the length distributions.\n",
    "\n",
    "sns.displot(train_df['len'])\n",
    "sns.displot(test_df['len'])\n"
   ]
  },
  {
   "cell_type": "code",
   "execution_count": 38,
   "id": "english-bottle",
   "metadata": {},
   "outputs": [
    {
     "data": {
      "text/plain": [
       "<seaborn.axisgrid.FacetGrid at 0x7f3d8a55b430>"
      ]
     },
     "execution_count": 38,
     "metadata": {},
     "output_type": "execute_result"
    },
    {
     "data": {
      "image/png": "[encoded data removed]",
      "text/plain": [
       "<Figure size 360x360 with 1 Axes>"
      ]
     },
     "metadata": {
      "needs_background": "light"
     },
     "output_type": "display_data"
    },
    {
     "data": {
      "image/png": "[encoded data removed]",
      "text/plain": [
       "<Figure size 360x360 with 1 Axes>"
      ]
     },
     "metadata": {
      "needs_background": "light"
     },
     "output_type": "display_data"
    }
   ],
   "source": [
    "sns.displot(train_df['num_words'])\n",
    "sns.displot(test_df['num_words'])"
   ]
  },
  {
   "cell_type": "code",
   "execution_count": 56,
   "id": "metric-chuck",
   "metadata": {},
   "outputs": [
    {
     "data": {
      "text/html": [
       "<div>\n",
       "<style scoped>\n",
       "    .dataframe tbody tr th:only-of-type {\n",
       "        vertical-align: middle;\n",
       "    }\n",
       "\n",
       "    .dataframe tbody tr th {\n",
       "        vertical-align: top;\n",
       "    }\n",
       "\n",
       "    .dataframe thead th {\n",
       "        text-align: right;\n",
       "    }\n",
       "</style>\n",
       "<table border=\"1\" class=\"dataframe\">\n",
       "  <thead>\n",
       "    <tr style=\"text-align: right;\">\n",
       "      <th></th>\n",
       "      <th>id</th>\n",
       "      <th>content</th>\n",
       "      <th>category</th>\n",
       "      <th>len</th>\n",
       "      <th>num_words</th>\n",
       "      <th>language_detection</th>\n",
       "    </tr>\n",
       "  </thead>\n",
       "  <tbody>\n",
       "    <tr>\n",
       "      <th>2861</th>\n",
       "      <td>SW4225</td>\n",
       "      <td>.</td>\n",
       "      <td>Burudani</td>\n",
       "      <td>1</td>\n",
       "      <td>1</td>\n",
       "      <td>Failed</td>\n",
       "    </tr>\n",
       "    <tr>\n",
       "      <th>4906</th>\n",
       "      <td>SW724</td>\n",
       "      <td>['.']</td>\n",
       "      <td>michezo</td>\n",
       "      <td>5</td>\n",
       "      <td>1</td>\n",
       "      <td>Failed</td>\n",
       "    </tr>\n",
       "    <tr>\n",
       "      <th>5006</th>\n",
       "      <td>SW832</td>\n",
       "      <td></td>\n",
       "      <td>Biashara</td>\n",
       "      <td>1</td>\n",
       "      <td>2</td>\n",
       "      <td>Failed</td>\n",
       "    </tr>\n",
       "  </tbody>\n",
       "</table>\n",
       "</div>"
      ],
      "text/plain": [
       "          id content  category  len  num_words language_detection\n",
       "2861  SW4225       .  Burudani    1          1             Failed\n",
       "4906   SW724   ['.']   michezo    5          1             Failed\n",
       "5006   SW832          Biashara    1          2             Failed"
      ]
     },
     "execution_count": 56,
     "metadata": {},
     "output_type": "execute_result"
    }
   ],
   "source": [
    "# What do the really small one's look like\n",
    "train_df[train_df['len'] < 20]"
   ]
  },
  {
   "cell_type": "markdown",
   "id": "explicit-length",
   "metadata": {},
   "source": [
    "## Hypothesis: This dataset consists of Swahili language data only"
   ]
  },
  {
   "cell_type": "code",
   "execution_count": 42,
   "id": "moral-chain",
   "metadata": {},
   "outputs": [
    {
     "data": {
      "text/html": [
       "<div>\n",
       "<style scoped>\n",
       "    .dataframe tbody tr th:only-of-type {\n",
       "        vertical-align: middle;\n",
       "    }\n",
       "\n",
       "    .dataframe tbody tr th {\n",
       "        vertical-align: top;\n",
       "    }\n",
       "\n",
       "    .dataframe thead th {\n",
       "        text-align: right;\n",
       "    }\n",
       "</style>\n",
       "<table border=\"1\" class=\"dataframe\">\n",
       "  <thead>\n",
       "    <tr style=\"text-align: right;\">\n",
       "      <th></th>\n",
       "      <th>id</th>\n",
       "      <th>content</th>\n",
       "      <th>category</th>\n",
       "      <th>len</th>\n",
       "      <th>num_words</th>\n",
       "      <th>language_detection</th>\n",
       "    </tr>\n",
       "  </thead>\n",
       "  <tbody>\n",
       "    <tr>\n",
       "      <th>0</th>\n",
       "      <td>SW0</td>\n",
       "      <td>SERIKALI imesema haitakuwa tayari kuona amani...</td>\n",
       "      <td>Kitaifa</td>\n",
       "      <td>1584</td>\n",
       "      <td>233</td>\n",
       "      <td>sw</td>\n",
       "    </tr>\n",
       "    <tr>\n",
       "      <th>1</th>\n",
       "      <td>SW1</td>\n",
       "      <td>Mkuu wa Mkoa wa Tabora, Aggrey Mwanri amesiti...</td>\n",
       "      <td>Biashara</td>\n",
       "      <td>1317</td>\n",
       "      <td>187</td>\n",
       "      <td>sw</td>\n",
       "    </tr>\n",
       "    <tr>\n",
       "      <th>2</th>\n",
       "      <td>SW10</td>\n",
       "      <td>SERIKALI imetoa miezi sita kwa taasisi zote z...</td>\n",
       "      <td>Kitaifa</td>\n",
       "      <td>2610</td>\n",
       "      <td>394</td>\n",
       "      <td>sw</td>\n",
       "    </tr>\n",
       "    <tr>\n",
       "      <th>3</th>\n",
       "      <td>SW100</td>\n",
       "      <td>KAMPUNI ya mchezo wa kubahatisha ya M-bet ime...</td>\n",
       "      <td>michezo</td>\n",
       "      <td>1404</td>\n",
       "      <td>213</td>\n",
       "      <td>sw</td>\n",
       "    </tr>\n",
       "    <tr>\n",
       "      <th>4</th>\n",
       "      <td>SW1000</td>\n",
       "      <td>WATANZANIA wamekumbushwa kusherehekea sikukuu...</td>\n",
       "      <td>Kitaifa</td>\n",
       "      <td>2247</td>\n",
       "      <td>336</td>\n",
       "      <td>sw</td>\n",
       "    </tr>\n",
       "    <tr>\n",
       "      <th>...</th>\n",
       "      <td>...</td>\n",
       "      <td>...</td>\n",
       "      <td>...</td>\n",
       "      <td>...</td>\n",
       "      <td>...</td>\n",
       "      <td>...</td>\n",
       "    </tr>\n",
       "    <tr>\n",
       "      <th>5146</th>\n",
       "      <td>SW993</td>\n",
       "      <td>RAIS John Magufuli ameendelea kung’ara katika...</td>\n",
       "      <td>Kitaifa</td>\n",
       "      <td>6742</td>\n",
       "      <td>1041</td>\n",
       "      <td>sw</td>\n",
       "    </tr>\n",
       "    <tr>\n",
       "      <th>5147</th>\n",
       "      <td>SW994</td>\n",
       "      <td>KAMPENI inayohimiza watafi ti kuandika upya h...</td>\n",
       "      <td>Kitaifa</td>\n",
       "      <td>2348</td>\n",
       "      <td>330</td>\n",
       "      <td>sw</td>\n",
       "    </tr>\n",
       "    <tr>\n",
       "      <th>5148</th>\n",
       "      <td>SW996</td>\n",
       "      <td>MATUKIO mapya ya malaria kwa kila watu 1,000 ...</td>\n",
       "      <td>Kitaifa</td>\n",
       "      <td>3014</td>\n",
       "      <td>450</td>\n",
       "      <td>sw</td>\n",
       "    </tr>\n",
       "    <tr>\n",
       "      <th>5149</th>\n",
       "      <td>SW997</td>\n",
       "      <td>IMEELEZWA kuwa hakuna sheria yoyote inayokata...</td>\n",
       "      <td>Kitaifa</td>\n",
       "      <td>1216</td>\n",
       "      <td>195</td>\n",
       "      <td>sw</td>\n",
       "    </tr>\n",
       "    <tr>\n",
       "      <th>5150</th>\n",
       "      <td>SW999</td>\n",
       "      <td>Akizungumza mara baada ya kutiwa saini kwa ma...</td>\n",
       "      <td>Biashara</td>\n",
       "      <td>1889</td>\n",
       "      <td>292</td>\n",
       "      <td>sw</td>\n",
       "    </tr>\n",
       "  </tbody>\n",
       "</table>\n",
       "<p>5151 rows × 6 columns</p>\n",
       "</div>"
      ],
      "text/plain": [
       "          id                                            content  category  \\\n",
       "0        SW0   SERIKALI imesema haitakuwa tayari kuona amani...   Kitaifa   \n",
       "1        SW1   Mkuu wa Mkoa wa Tabora, Aggrey Mwanri amesiti...  Biashara   \n",
       "2       SW10   SERIKALI imetoa miezi sita kwa taasisi zote z...   Kitaifa   \n",
       "3      SW100   KAMPUNI ya mchezo wa kubahatisha ya M-bet ime...   michezo   \n",
       "4     SW1000   WATANZANIA wamekumbushwa kusherehekea sikukuu...   Kitaifa   \n",
       "...      ...                                                ...       ...   \n",
       "5146   SW993   RAIS John Magufuli ameendelea kung’ara katika...   Kitaifa   \n",
       "5147   SW994   KAMPENI inayohimiza watafi ti kuandika upya h...   Kitaifa   \n",
       "5148   SW996   MATUKIO mapya ya malaria kwa kila watu 1,000 ...   Kitaifa   \n",
       "5149   SW997   IMEELEZWA kuwa hakuna sheria yoyote inayokata...   Kitaifa   \n",
       "5150   SW999   Akizungumza mara baada ya kutiwa saini kwa ma...  Biashara   \n",
       "\n",
       "       len  num_words language_detection  \n",
       "0     1584        233                 sw  \n",
       "1     1317        187                 sw  \n",
       "2     2610        394                 sw  \n",
       "3     1404        213                 sw  \n",
       "4     2247        336                 sw  \n",
       "...    ...        ...                ...  \n",
       "5146  6742       1041                 sw  \n",
       "5147  2348        330                 sw  \n",
       "5148  3014        450                 sw  \n",
       "5149  1216        195                 sw  \n",
       "5150  1889        292                 sw  \n",
       "\n",
       "[5151 rows x 6 columns]"
      ]
     },
     "execution_count": 42,
     "metadata": {},
     "output_type": "execute_result"
    }
   ],
   "source": [
    "#\n",
    "def detectLang(cell):\n",
    "    try:\n",
    "        return detect(cell)\n",
    "    except:\n",
    "        return \"Failed\"\n",
    "\n",
    "train_df['language_detection'] = train_df['content'].apply(lambda x: detectLang(x))\n",
    "test_df['language_detection'] = test_df['content'].apply(lambda x: detectLang(x))\n",
    "train_df"
   ]
  },
  {
   "cell_type": "code",
   "execution_count": 45,
   "id": "front-transaction",
   "metadata": {},
   "outputs": [
    {
     "data": {
      "text/plain": [
       "<AxesSubplot:xlabel='language_detection', ylabel='count'>"
      ]
     },
     "execution_count": 45,
     "metadata": {},
     "output_type": "execute_result"
    },
    {
     "data": {
      "image/png": "[encoded data removed]",
      "text/plain": [
       "<Figure size 432x288 with 1 Axes>"
      ]
     },
     "metadata": {
      "needs_background": "light"
     },
     "output_type": "display_data"
    }
   ],
   "source": [
    "sns.countplot(x=\"language_detection\", data=train_df)"
   ]
  },
  {
   "cell_type": "code",
   "execution_count": 47,
   "id": "powerful-values",
   "metadata": {},
   "outputs": [
    {
     "data": {
      "text/html": [
       "<div>\n",
       "<style scoped>\n",
       "    .dataframe tbody tr th:only-of-type {\n",
       "        vertical-align: middle;\n",
       "    }\n",
       "\n",
       "    .dataframe tbody tr th {\n",
       "        vertical-align: top;\n",
       "    }\n",
       "\n",
       "    .dataframe thead th {\n",
       "        text-align: right;\n",
       "    }\n",
       "</style>\n",
       "<table border=\"1\" class=\"dataframe\">\n",
       "  <thead>\n",
       "    <tr style=\"text-align: right;\">\n",
       "      <th></th>\n",
       "      <th>id</th>\n",
       "      <th>content</th>\n",
       "      <th>category</th>\n",
       "      <th>len</th>\n",
       "      <th>num_words</th>\n",
       "      <th>language_detection</th>\n",
       "    </tr>\n",
       "  </thead>\n",
       "  <tbody>\n",
       "    <tr>\n",
       "      <th>2267</th>\n",
       "      <td>SW3552</td>\n",
       "      <td>.Wizkid ameshinda tuzo kubwa za Marekani za So...</td>\n",
       "      <td>Burudani</td>\n",
       "      <td>215</td>\n",
       "      <td>30</td>\n",
       "      <td>en</td>\n",
       "    </tr>\n",
       "  </tbody>\n",
       "</table>\n",
       "</div>"
      ],
      "text/plain": [
       "          id                                            content  category  \\\n",
       "2267  SW3552  .Wizkid ameshinda tuzo kubwa za Marekani za So...  Burudani   \n",
       "\n",
       "      len  num_words language_detection  \n",
       "2267  215         30                 en  "
      ]
     },
     "execution_count": 47,
     "metadata": {},
     "output_type": "execute_result"
    }
   ],
   "source": [
    "train_df[train_df['language_detection'] == 'en']"
   ]
  },
  {
   "cell_type": "code",
   "execution_count": 48,
   "id": "second-notification",
   "metadata": {},
   "outputs": [
    {
     "data": {
      "text/html": [
       "<div>\n",
       "<style scoped>\n",
       "    .dataframe tbody tr th:only-of-type {\n",
       "        vertical-align: middle;\n",
       "    }\n",
       "\n",
       "    .dataframe tbody tr th {\n",
       "        vertical-align: top;\n",
       "    }\n",
       "\n",
       "    .dataframe thead th {\n",
       "        text-align: right;\n",
       "    }\n",
       "</style>\n",
       "<table border=\"1\" class=\"dataframe\">\n",
       "  <thead>\n",
       "    <tr style=\"text-align: right;\">\n",
       "      <th></th>\n",
       "      <th>id</th>\n",
       "      <th>content</th>\n",
       "      <th>category</th>\n",
       "      <th>len</th>\n",
       "      <th>num_words</th>\n",
       "      <th>language_detection</th>\n",
       "    </tr>\n",
       "  </thead>\n",
       "  <tbody>\n",
       "    <tr>\n",
       "      <th>2861</th>\n",
       "      <td>SW4225</td>\n",
       "      <td>.</td>\n",
       "      <td>Burudani</td>\n",
       "      <td>1</td>\n",
       "      <td>1</td>\n",
       "      <td>Failed</td>\n",
       "    </tr>\n",
       "    <tr>\n",
       "      <th>4906</th>\n",
       "      <td>SW724</td>\n",
       "      <td>['.']</td>\n",
       "      <td>michezo</td>\n",
       "      <td>5</td>\n",
       "      <td>1</td>\n",
       "      <td>Failed</td>\n",
       "    </tr>\n",
       "    <tr>\n",
       "      <th>5006</th>\n",
       "      <td>SW832</td>\n",
       "      <td></td>\n",
       "      <td>Biashara</td>\n",
       "      <td>1</td>\n",
       "      <td>2</td>\n",
       "      <td>Failed</td>\n",
       "    </tr>\n",
       "  </tbody>\n",
       "</table>\n",
       "</div>"
      ],
      "text/plain": [
       "          id content  category  len  num_words language_detection\n",
       "2861  SW4225       .  Burudani    1          1             Failed\n",
       "4906   SW724   ['.']   michezo    5          1             Failed\n",
       "5006   SW832          Biashara    1          2             Failed"
      ]
     },
     "execution_count": 48,
     "metadata": {},
     "output_type": "execute_result"
    }
   ],
   "source": [
    "train_df[train_df['language_detection'] == 'Failed']"
   ]
  },
  {
   "cell_type": "code",
   "execution_count": 44,
   "id": "alternate-freeze",
   "metadata": {},
   "outputs": [
    {
     "data": {
      "text/plain": [
       "<AxesSubplot:xlabel='language_detection', ylabel='count'>"
      ]
     },
     "execution_count": 44,
     "metadata": {},
     "output_type": "execute_result"
    },
    {
     "data": {
      "image/png": "[encoded data removed]",
      "text/plain": [
       "<Figure size 432x288 with 1 Axes>"
      ]
     },
     "metadata": {
      "needs_background": "light"
     },
     "output_type": "display_data"
    }
   ],
   "source": [
    "sns.countplot(x=\"language_detection\", data=test_df)"
   ]
  },
  {
   "cell_type": "markdown",
   "id": "pleased-cornell",
   "metadata": {},
   "source": [
    "## Do we have any data leakage?\n",
    "i.e. Do we have data in our test set that's identical to our training set which would give inflated performance?\n"
   ]
  },
  {
   "cell_type": "code",
   "execution_count": 63,
   "id": "inclusive-album",
   "metadata": {},
   "outputs": [
    {
     "data": {
      "text/plain": [
       "set()"
      ]
     },
     "execution_count": 63,
     "metadata": {},
     "output_type": "execute_result"
    }
   ],
   "source": [
    "train_set = set(train_df['content'])\n",
    "test_set = set(test_df['content'])\n",
    "train_set.intersection(test_set)"
   ]
  },
  {
   "cell_type": "markdown",
   "id": "charitable-watts",
   "metadata": {},
   "source": [
    "# Summary of Findings\n",
    "- We have just over 5000 training patterns and just over 1000 test patterns.\n",
    "- We have 5 categories with large skew towards 3 of them. The remaining 2 categories have very little data\n",
    "- Majority of categories have length between 0 and 500 characters, with a tail that extends to 2500. This occurs in both test and training\n",
    "- The data is in Swahili safe for 3 very short patterns that do not appear to be valid text.\n",
    "- There is no data leakage between train and test"
   ]
  }
 ],
 "metadata": {
  "kernelspec": {
   "display_name": "Python 3.8.5 64-bit ('kalido')",
   "language": "python",
   "name": "python38564bitkalido8845e48e83a741b69fcd37b4f1124d5c"
  },
  "language_info": {
   "codemirror_mode": {
    "name": "ipython",
    "version": 3
   },
   "file_extension": ".py",
   "mimetype": "text/x-python",
   "name": "python",
   "nbconvert_exporter": "python",
   "pygments_lexer": "ipython3",
   "version": "3.8.10"
  }
 },
 "nbformat": 4,
 "nbformat_minor": 5
}
