{
  "nbformat": 4,
  "nbformat_minor": 0,
  "metadata": {
    "colab": {
      "name": "NLP_Lab3_IgboToEnglish.ipynb",
      "provenance": [],
      "collapsed_sections": [],
      "machine_shape": "hm"
    },
    "kernelspec": {
      "display_name": "Python 3",
      "language": "python",
      "name": "python3"
    },
    "language_info": {
      "codemirror_mode": {
        "name": "ipython",
        "version": 3
      },
      "file_extension": ".py",
      "mimetype": "text/x-python",
      "name": "python",
      "nbconvert_exporter": "python",
      "pygments_lexer": "ipython3",
      "version": "3.7.3"
    },
    "accelerator": "GPU"
  },
  "cells": [
    {
      "cell_type": "markdown",
      "metadata": {
        "id": "Igc5itf-xMGj"
      },
      "source": [
        "# Masakhane - Reverse Machine Translation for African Languages (Using JoeyNMT)\n",
        "\n",
        "## Igbo to English\n",
        "\n",
        "### Group Members:\n",
        "*Dino Anastasopoulos (1900661)<br>*\n",
        "*Jesse Bristow (1875955)<br>*\n",
        "*Chloe Smith (1877342)<br>*"
      ]
    },
    {
      "cell_type": "markdown",
      "metadata": {
        "id": "HrhqibOlpzbU"
      },
      "source": [
        "> ## NB\n",
        ">### - The purpose of this Notebook is to build models that translate African languages(target language) *into* English(source language). This will allow us to in future be able to make translations from one African language to the other. If you'd like to translate *from* English, please use [this](https://github.com/masakhane-io/masakhane-mt/blob/master/starter_notebook.ipynb) starter notebook instead.\n",
        "\n",
        ">### - We call this reverse training because normally we build models that make translations from the source language(English) to the target language. But in this case we are doing the reverse; building models that make translations from the target language to the source(English)"
      ]
    },
    {
      "cell_type": "markdown",
      "metadata": {
        "id": "x4fXCKCf36IK"
      },
      "source": [
        "## Note before beginning:\n",
        "### - The idea is that you should be able to make minimal changes to this in order to get SOME result for your own translation corpus. \n",
        "\n",
        "### - The tl;dr: Go to the **\"TODO\"** comments which will tell you what to update to get up and running\n",
        "\n",
        "### - If you actually want to have a clue what you're doing, read the text and peek at the links\n",
        "\n",
        "### - With 100 epochs, it should take around 7 hours to run in Google Colab\n",
        "\n",
        "### - Once you've gotten a result for your language, please attach and email your notebook that generated it to masakhanetranslation@gmail.com\n",
        "\n",
        "### - If you care enough and get a chance, doing a brief background on your language would be amazing. See examples in  [(Martinus, 2019)](https://arxiv.org/abs/1906.05685)"
      ]
    },
    {
      "cell_type": "markdown",
      "metadata": {
        "id": "l929HimrxS0a"
      },
      "source": [
        "## Retrieve your data & make a parallel corpus\n",
        "\n",
        "If you are wanting to use the JW300 data referenced on the Masakhane website or in our GitHub repo, you can use `opus-tools` to convert the data into a convenient format. `opus_read` from that package provides a convenient tool for reading the native aligned XML files and to convert them to TMX format. The tool can also be used to fetch relevant files from OPUS on the fly and to filter the data as necessary. [Read the documentation](https://pypi.org/project/opustools-pkg/) for more details.\n",
        "\n",
        "Once you have your corpus files in TMX format (an xml structure which will include the sentences in your target language and your source language in a single file), we recommend reading them into a pandas dataframe. Thankfully, Jade wrote a silly `tmx2dataframe` package which converts your tmx file to a pandas dataframe. "
      ]
    },
    {
      "cell_type": "code",
      "metadata": {
        "colab": {
          "base_uri": "https://localhost:8080/"
        },
        "id": "4NF5EufQQz2Q",
        "outputId": "a102d9f0-d857-4e17-c0ca-c256984f38c0"
      },
      "source": [
        "gpu_info = !nvidia-smi\n",
        "gpu_info = '\\n'.join(gpu_info)\n",
        "if gpu_info.find('failed') >= 0:\n",
        "  print('Not connected to a GPU')\n",
        "else:\n",
        "  print(gpu_info)\n",
        "\n",
        "\n",
        "from psutil import virtual_memory\n",
        "ram_gb = virtual_memory().total / 1e9\n",
        "print('Your runtime has {:.1f} gigabytes of available RAM\\n'.format(ram_gb))\n",
        "\n",
        "if ram_gb < 20:\n",
        "  print('Not using a high-RAM runtime')\n",
        "else:\n",
        "  print('You are using a high-RAM runtime!')"
      ],
      "execution_count": null,
      "outputs": [
        {
          "output_type": "stream",
          "name": "stdout",
          "text": [
            "Thu Oct 14 11:10:27 2021       \n",
            "+-----------------------------------------------------------------------------+\n",
            "| NVIDIA-SMI 470.74       Driver Version: 460.32.03    CUDA Version: 11.2     |\n",
            "|-------------------------------+----------------------+----------------------+\n",
            "| GPU  Name        Persistence-M| Bus-Id        Disp.A | Volatile Uncorr. ECC |\n",
            "| Fan  Temp  Perf  Pwr:Usage/Cap|         Memory-Usage | GPU-Util  Compute M. |\n",
            "|                               |                      |               MIG M. |\n",
            "|===============================+======================+======================|\n",
            "|   0  Tesla P100-PCIE...  Off  | 00000000:00:04.0 Off |                    0 |\n",
            "| N/A   36C    P0    27W / 250W |      0MiB / 16280MiB |      0%      Default |\n",
            "|                               |                      |                  N/A |\n",
            "+-------------------------------+----------------------+----------------------+\n",
            "                                                                               \n",
            "+-----------------------------------------------------------------------------+\n",
            "| Processes:                                                                  |\n",
            "|  GPU   GI   CI        PID   Type   Process name                  GPU Memory |\n",
            "|        ID   ID                                                   Usage      |\n",
            "|=============================================================================|\n",
            "|  No running processes found                                                 |\n",
            "+-----------------------------------------------------------------------------+\n",
            "Your runtime has 27.3 gigabytes of available RAM\n",
            "\n",
            "You are using a high-RAM runtime!\n"
          ]
        }
      ]
    },
    {
      "cell_type": "code",
      "metadata": {
        "colab": {
          "base_uri": "https://localhost:8080/"
        },
        "id": "oGRmDELn7Az0",
        "outputId": "cc1bde91-6525-4d0e-cfde-3106f8fda8c0"
      },
      "source": [
        "from google.colab import drive\n",
        "drive.mount('/content/drive')"
      ],
      "execution_count": null,
      "outputs": [
        {
          "output_type": "stream",
          "name": "stdout",
          "text": [
            "Mounted at /content/drive\n"
          ]
        }
      ]
    },
    {
      "cell_type": "code",
      "metadata": {
        "id": "Cn3tgQLzUxwn"
      },
      "source": [
        "# TODO: Set your source and target languages. Keep in mind, these traditionally use language codes as found here:\n",
        "# These will also become the suffix's of all vocab and corpus files used throughout\n",
        "import os\n",
        "source_language = \"en\"\n",
        "target_language = \"ig\" \n",
        "lc = False  # If True, lowercase the data.\n",
        "seed = 42  # Random seed for shuffling.\n",
        "tag = \"baseline\" # Give a unique name to your folder - this is to ensure you don't rewrite any models you've already submitted\n",
        "\n",
        "os.environ[\"src\"] = source_language # Sets them in bash as well, since we often use bash scripts\n",
        "os.environ[\"tgt\"] = target_language\n",
        "os.environ[\"tag\"] = tag\n",
        "\n",
        "# This will save it to a folder in our gdrive instead!\n",
        "!mkdir -p \"/content/drive/My Drive/masakhane/$tgt-$src-$tag\"\n",
        "os.environ[\"gdrive_path\"] = \"/content/drive/My Drive/masakhane/%s-%s-%s\" % (target_language, source_language, tag)"
      ],
      "execution_count": null,
      "outputs": []
    },
    {
      "cell_type": "code",
      "metadata": {
        "colab": {
          "base_uri": "https://localhost:8080/"
        },
        "id": "kBSgJHEw7Nvx",
        "outputId": "f127ee3a-0875-48f1-88e2-dbd4780dc081"
      },
      "source": [
        "!echo $gdrive_path"
      ],
      "execution_count": null,
      "outputs": [
        {
          "output_type": "stream",
          "name": "stdout",
          "text": [
            "/content/drive/My Drive/masakhane/ig-en-baseline\n"
          ]
        }
      ]
    },
    {
      "cell_type": "code",
      "metadata": {
        "colab": {
          "base_uri": "https://localhost:8080/"
        },
        "id": "gA75Fs9ys8Y9",
        "outputId": "c0133d4f-eb5e-4ebb-b405-83bfee850aa7"
      },
      "source": [
        "# Install opus-tools\n",
        "! pip install opustools-pkg"
      ],
      "execution_count": null,
      "outputs": [
        {
          "output_type": "stream",
          "name": "stdout",
          "text": [
            "Collecting opustools-pkg\n",
            "  Downloading opustools_pkg-0.0.52-py3-none-any.whl (80 kB)\n",
            "\u001b[?25l\r\u001b[K     |████                            | 10 kB 25.8 MB/s eta 0:00:01\r\u001b[K     |████████                        | 20 kB 23.2 MB/s eta 0:00:01\r\u001b[K     |████████████▏                   | 30 kB 18.2 MB/s eta 0:00:01\r\u001b[K     |████████████████▏               | 40 kB 15.8 MB/s eta 0:00:01\r\u001b[K     |████████████████████▎           | 51 kB 6.9 MB/s eta 0:00:01\r\u001b[K     |████████████████████████▎       | 61 kB 7.9 MB/s eta 0:00:01\r\u001b[K     |████████████████████████████▎   | 71 kB 7.1 MB/s eta 0:00:01\r\u001b[K     |████████████████████████████████| 80 kB 4.8 MB/s \n",
            "\u001b[?25hInstalling collected packages: opustools-pkg\n",
            "Successfully installed opustools-pkg-0.0.52\n"
          ]
        }
      ]
    },
    {
      "cell_type": "code",
      "metadata": {
        "colab": {
          "base_uri": "https://localhost:8080/"
        },
        "id": "xq-tDZVks7ZD",
        "outputId": "02234bb1-e056-471c-821a-817d681a6c27"
      },
      "source": [
        "# Downloading our corpus\n",
        "! opus_read -d JW300 -s $src -t $tgt -wm moses -w jw300.$src jw300.$tgt -q\n",
        "\n",
        "# extract the corpus file\n",
        "! gunzip JW300_latest_xml_$src-$tgt.xml.gz"
      ],
      "execution_count": null,
      "outputs": [
        {
          "output_type": "stream",
          "name": "stdout",
          "text": [
            "\n",
            "Alignment file /proj/nlpl/data/OPUS/JW300/latest/xml/en-ig.xml.gz not found. The following files are available for downloading:\n",
            "\n",
            "   5 MB https://object.pouta.csc.fi/OPUS-JW300/v1c/xml/en-ig.xml.gz\n",
            " 274 MB https://object.pouta.csc.fi/OPUS-JW300/v1c/xml/en.zip\n",
            "  57 MB https://object.pouta.csc.fi/OPUS-JW300/v1c/xml/ig.zip\n",
            "\n",
            " 335 MB Total size\n",
            "./JW300_latest_xml_en-ig.xml.gz ... 100% of 5 MB\n",
            "./JW300_latest_xml_en.zip ... 100% of 274 MB\n",
            "./JW300_latest_xml_ig.zip ... 100% of 57 MB\n"
          ]
        }
      ]
    },
    {
      "cell_type": "code",
      "metadata": {
        "colab": {
          "base_uri": "https://localhost:8080/"
        },
        "id": "n48GDRnP8y2G",
        "outputId": "03b72af3-c55a-4a8a-9d3c-177d5156a768"
      },
      "source": [
        "# Download the global test set.\n",
        "! wget https://raw.githubusercontent.com/juliakreutzer/masakhane/master/jw300_utils/test/test.en-any.en\n",
        "  \n",
        "# And the specific test set for this language pair.\n",
        "os.environ[\"trg\"] = target_language \n",
        "os.environ[\"src\"] = source_language \n",
        "\n",
        "! wget https://raw.githubusercontent.com/juliakreutzer/masakhane/master/jw300_utils/test/test.en-$tgt.en \n",
        "print(\"FIRST WGET SUCCESS\")\n",
        "! mv test.en-$tgt.en test.en\n",
        "print(\"FIRST MV SUCCESS\")\n",
        "\n",
        "! wget https://raw.githubusercontent.com/juliakreutzer/masakhane/master/jw300_utils/test/test.en-$tgt.$tgt \n",
        "print(\"SECOND WGET SUCCESS\")\n",
        "! mv test.en-$tgt.$tgt test.$tgt\n",
        "print(\"SECOND MV SUCCESS\")"
      ],
      "execution_count": null,
      "outputs": [
        {
          "output_type": "stream",
          "name": "stdout",
          "text": [
            "--2021-10-14 11:13:34--  https://raw.githubusercontent.com/juliakreutzer/masakhane/master/jw300_utils/test/test.en-any.en\n",
            "Resolving raw.githubusercontent.com (raw.githubusercontent.com)... 185.199.110.133, 185.199.109.133, 185.199.108.133, ...\n",
            "Connecting to raw.githubusercontent.com (raw.githubusercontent.com)|185.199.110.133|:443... connected.\n",
            "HTTP request sent, awaiting response... 200 OK\n",
            "Length: 277791 (271K) [text/plain]\n",
            "Saving to: ‘test.en-any.en’\n",
            "\n",
            "test.en-any.en      100%[===================>] 271.28K  --.-KB/s    in 0.02s   \n",
            "\n",
            "2021-10-14 11:13:35 (11.6 MB/s) - ‘test.en-any.en’ saved [277791/277791]\n",
            "\n",
            "--2021-10-14 11:13:35--  https://raw.githubusercontent.com/juliakreutzer/masakhane/master/jw300_utils/test/test.en-ig.en\n",
            "Resolving raw.githubusercontent.com (raw.githubusercontent.com)... 185.199.110.133, 185.199.109.133, 185.199.108.133, ...\n",
            "Connecting to raw.githubusercontent.com (raw.githubusercontent.com)|185.199.110.133|:443... connected.\n",
            "HTTP request sent, awaiting response... 200 OK\n",
            "Length: 205323 (201K) [text/plain]\n",
            "Saving to: ‘test.en-ig.en’\n",
            "\n",
            "test.en-ig.en       100%[===================>] 200.51K  --.-KB/s    in 0.02s   \n",
            "\n",
            "2021-10-14 11:13:35 (12.2 MB/s) - ‘test.en-ig.en’ saved [205323/205323]\n",
            "\n",
            "FIRST WGET SUCCESS\n",
            "FIRST MV SUCCESS\n",
            "--2021-10-14 11:13:35--  https://raw.githubusercontent.com/juliakreutzer/masakhane/master/jw300_utils/test/test.en-ig.ig\n",
            "Resolving raw.githubusercontent.com (raw.githubusercontent.com)... 185.199.108.133, 185.199.109.133, 185.199.110.133, ...\n",
            "Connecting to raw.githubusercontent.com (raw.githubusercontent.com)|185.199.108.133|:443... connected.\n",
            "HTTP request sent, awaiting response... 200 OK\n",
            "Length: 259911 (254K) [text/plain]\n",
            "Saving to: ‘test.en-ig.ig’\n",
            "\n",
            "test.en-ig.ig       100%[===================>] 253.82K  --.-KB/s    in 0.02s   \n",
            "\n",
            "2021-10-14 11:13:36 (11.9 MB/s) - ‘test.en-ig.ig’ saved [259911/259911]\n",
            "\n",
            "SECOND WGET SUCCESS\n",
            "SECOND MV SUCCESS\n"
          ]
        }
      ]
    },
    {
      "cell_type": "code",
      "metadata": {
        "colab": {
          "base_uri": "https://localhost:8080/"
        },
        "id": "NqDG-CI28y2L",
        "outputId": "cfe7693b-d0b2-45a1-909d-ebe071ec7003"
      },
      "source": [
        "# Read the test data to filter from train and dev splits.\n",
        "# Store english portion in set for quick filtering checks.\n",
        "en_test_sents = set()\n",
        "filter_test_sents = \"test.en-any.en\"\n",
        "j = 0\n",
        "with open(filter_test_sents) as f:\n",
        "  for line in f:\n",
        "    en_test_sents.add(line.strip())\n",
        "    j += 1\n",
        "print('Loaded {} global test sentences to filter from the training/dev data.'.format(j))"
      ],
      "execution_count": null,
      "outputs": [
        {
          "output_type": "stream",
          "name": "stdout",
          "text": [
            "Loaded 3571 global test sentences to filter from the training/dev data.\n"
          ]
        }
      ]
    },
    {
      "cell_type": "code",
      "metadata": {
        "colab": {
          "base_uri": "https://localhost:8080/",
          "height": 158
        },
        "id": "3CNdwLBCfSIl",
        "outputId": "112fca9a-4833-43ff-9db7-decfc2254bb2"
      },
      "source": [
        "import pandas as pd\n",
        "\n",
        "# TMX file to dataframe\n",
        "source_file = 'jw300.' + source_language\n",
        "target_file = 'jw300.' + target_language\n",
        "\n",
        "source = []\n",
        "target = []\n",
        "skip_lines = []  # Collect the line numbers of the source portion to skip the same lines for the target portion.\n",
        "with open(source_file) as f:\n",
        "    for i, line in enumerate(f):\n",
        "        # Skip sentences that are contained in the test set.\n",
        "        if line.strip() not in en_test_sents:\n",
        "            source.append(line.strip())\n",
        "        else:\n",
        "            skip_lines.append(i)             \n",
        "with open(target_file) as f:\n",
        "    for j, line in enumerate(f):\n",
        "        # Only add to corpus if corresponding source was not skipped.\n",
        "        if j not in skip_lines:\n",
        "            target.append(line.strip())\n",
        "    \n",
        "print('Loaded data and skipped {}/{} lines since contained in test set.'.format(len(skip_lines), i))\n",
        "    \n",
        "df = pd.DataFrame(zip(source, target), columns=['source_sentence', 'target_sentence'])\n",
        "# if you get TypeError: data argument can't be an iterator is because of your zip version run this below\n",
        "#df = pd.DataFrame(list(zip(source, target)), columns=['source_sentence', 'target_sentence'])\n",
        "df.head(3)"
      ],
      "execution_count": null,
      "outputs": [
        {
          "output_type": "stream",
          "name": "stdout",
          "text": [
            "Loaded data and skipped 4513/471529 lines since contained in test set.\n"
          ]
        },
        {
          "output_type": "execute_result",
          "data": {
            "text/html": [
              "<div>\n",
              "<style scoped>\n",
              "    .dataframe tbody tr th:only-of-type {\n",
              "        vertical-align: middle;\n",
              "    }\n",
              "\n",
              "    .dataframe tbody tr th {\n",
              "        vertical-align: top;\n",
              "    }\n",
              "\n",
              "    .dataframe thead th {\n",
              "        text-align: right;\n",
              "    }\n",
              "</style>\n",
              "<table border=\"1\" class=\"dataframe\">\n",
              "  <thead>\n",
              "    <tr style=\"text-align: right;\">\n",
              "      <th></th>\n",
              "      <th>source_sentence</th>\n",
              "      <th>target_sentence</th>\n",
              "    </tr>\n",
              "  </thead>\n",
              "  <tbody>\n",
              "    <tr>\n",
              "      <th>0</th>\n",
              "      <td>Using Ladders — Do You Make These Safety Checks ?</td>\n",
              "      <td>Iji Ubube Eme Ihe — Ị̀ Na - eme Nnyocha Ndị A ...</td>\n",
              "    </tr>\n",
              "    <tr>\n",
              "      <th>1</th>\n",
              "      <td>By Awake ! correspondent in Ireland</td>\n",
              "      <td>Site n’aka onye nta akụkọ Teta ! na Ireland</td>\n",
              "    </tr>\n",
              "    <tr>\n",
              "      <th>2</th>\n",
              "      <td>PAUL needed to change a bulb in an outside lig...</td>\n",
              "      <td>Ọ DỊ Paul mkpa ịgbanwe bọlb ọkụ eletrik dị n’i...</td>\n",
              "    </tr>\n",
              "  </tbody>\n",
              "</table>\n",
              "</div>"
            ],
            "text/plain": [
              "                                     source_sentence                                    target_sentence\n",
              "0  Using Ladders — Do You Make These Safety Checks ?  Iji Ubube Eme Ihe — Ị̀ Na - eme Nnyocha Ndị A ...\n",
              "1                By Awake ! correspondent in Ireland        Site n’aka onye nta akụkọ Teta ! na Ireland\n",
              "2  PAUL needed to change a bulb in an outside lig...  Ọ DỊ Paul mkpa ịgbanwe bọlb ọkụ eletrik dị n’i..."
            ]
          },
          "metadata": {},
          "execution_count": 9
        }
      ]
    },
    {
      "cell_type": "markdown",
      "metadata": {
        "id": "YkuK3B4p2AkN"
      },
      "source": [
        "## Pre-processing and export\n",
        "\n",
        "It is generally a good idea to remove duplicate translations and conflicting translations from the corpus. In practice, these public corpora include some number of these that need to be cleaned.\n",
        "\n",
        "In addition we will split our data into dev/test/train and export to the filesystem."
      ]
    },
    {
      "cell_type": "code",
      "metadata": {
        "colab": {
          "base_uri": "https://localhost:8080/"
        },
        "id": "M_2ouEOH1_1q",
        "outputId": "96aee0a1-f367-45a7-a4a2-17db5aecc29b"
      },
      "source": [
        "# drop duplicate translations\n",
        "df_pp = df.drop_duplicates()\n",
        "\n",
        "# drop conflicting translations\n",
        "# (this is optional and something that you might want to comment out \n",
        "# depending on the size of your corpus)\n",
        "df_pp.drop_duplicates(subset='source_sentence', inplace=True)\n",
        "df_pp.drop_duplicates(subset='target_sentence', inplace=True)\n",
        "\n",
        "# Shuffle the data to remove bias in dev set selection.\n",
        "df_pp = df_pp.sample(frac=1, random_state=seed).reset_index(drop=True)"
      ],
      "execution_count": null,
      "outputs": [
        {
          "output_type": "stream",
          "name": "stderr",
          "text": [
            "/usr/local/lib/python3.7/dist-packages/ipykernel_launcher.py:7: SettingWithCopyWarning: \n",
            "A value is trying to be set on a copy of a slice from a DataFrame\n",
            "\n",
            "See the caveats in the documentation: https://pandas.pydata.org/pandas-docs/stable/user_guide/indexing.html#returning-a-view-versus-a-copy\n",
            "  import sys\n",
            "/usr/local/lib/python3.7/dist-packages/ipykernel_launcher.py:8: SettingWithCopyWarning: \n",
            "A value is trying to be set on a copy of a slice from a DataFrame\n",
            "\n",
            "See the caveats in the documentation: https://pandas.pydata.org/pandas-docs/stable/user_guide/indexing.html#returning-a-view-versus-a-copy\n",
            "  \n"
          ]
        }
      ]
    },
    {
      "cell_type": "code",
      "metadata": {
        "colab": {
          "base_uri": "https://localhost:8080/"
        },
        "id": "Z_1BwAApEtMk",
        "outputId": "9bda1fe0-8bef-43c4-e9af-91f3f9a42977"
      },
      "source": [
        "# Install fuzzy wuzzy to remove \"almost duplicate\" sentences in the\n",
        "# test and training sets.\n",
        "! pip install fuzzywuzzy\n",
        "! pip install python-Levenshtein\n",
        "import time\n",
        "from fuzzywuzzy import process\n",
        "import numpy as np\n",
        "from os import cpu_count\n",
        "from functools import partial\n",
        "from multiprocessing import Pool\n",
        "\n",
        "\n",
        "# reset the index of the training set after previous filtering\n",
        "df_pp.reset_index(drop=False, inplace=True)\n",
        "\n",
        "# Remove samples from the training data set if they \"almost overlap\" with the\n",
        "# samples in the test set.\n",
        "\n",
        "# Filtering function. Adjust pad to narrow down the candidate matches to\n",
        "# within a certain length of characters of the given sample.\n",
        "def fuzzfilter(sample, candidates, pad):\n",
        "  candidates = [x for x in candidates if len(x) <= len(sample)+pad and len(x) >= len(sample)-pad] \n",
        "  if len(candidates) > 0:\n",
        "    return process.extractOne(sample, candidates)[1]\n",
        "  else:\n",
        "    return np.nan"
      ],
      "execution_count": null,
      "outputs": [
        {
          "output_type": "stream",
          "name": "stdout",
          "text": [
            "Collecting fuzzywuzzy\n",
            "  Downloading fuzzywuzzy-0.18.0-py2.py3-none-any.whl (18 kB)\n",
            "Installing collected packages: fuzzywuzzy\n",
            "Successfully installed fuzzywuzzy-0.18.0\n",
            "Collecting python-Levenshtein\n",
            "  Downloading python-Levenshtein-0.12.2.tar.gz (50 kB)\n",
            "\u001b[K     |████████████████████████████████| 50 kB 3.9 MB/s \n",
            "\u001b[?25hRequirement already satisfied: setuptools in /usr/local/lib/python3.7/dist-packages (from python-Levenshtein) (57.4.0)\n",
            "Building wheels for collected packages: python-Levenshtein\n",
            "  Building wheel for python-Levenshtein (setup.py) ... \u001b[?25l\u001b[?25hdone\n",
            "  Created wheel for python-Levenshtein: filename=python_Levenshtein-0.12.2-cp37-cp37m-linux_x86_64.whl size=149854 sha256=f2fb6ba2fb0fd6707aaca804d5ef35f7fedacd0c43e8fa27c0570fb94ab5d5d0\n",
            "  Stored in directory: /root/.cache/pip/wheels/05/5f/ca/7c4367734892581bb5ff896f15027a932c551080b2abd3e00d\n",
            "Successfully built python-Levenshtein\n",
            "Installing collected packages: python-Levenshtein\n",
            "Successfully installed python-Levenshtein-0.12.2\n"
          ]
        }
      ]
    },
    {
      "cell_type": "code",
      "metadata": {
        "id": "92EsgTaY3B4H"
      },
      "source": [
        "#start_time = time.time()\n",
        "# ### iterating over pandas dataframe rows is not recomended, let use multi processing to apply the function\n",
        "\n",
        "#with Pool(cpu_count()-1) as pool:\n",
        "    #scores = pool.map(partial(fuzzfilter, candidates=list(en_test_sents), pad=5), df_pp['source_sentence'])\n",
        "#hours, rem = divmod(time.time() - start_time, 3600)\n",
        "#minutes, seconds = divmod(rem, 60)\n",
        "#print(\"done in {}h:{}min:{}seconds\".format(hours, minutes, seconds))\n",
        "\n",
        "# # Filter out \"almost overlapping samples\"\n",
        "#df_pp = df_pp.assign(scores=scores)\n",
        "#df_pp = df_pp[df_pp['scores'] < 95]"
      ],
      "execution_count": null,
      "outputs": []
    },
    {
      "cell_type": "code",
      "metadata": {
        "colab": {
          "base_uri": "https://localhost:8080/"
        },
        "id": "hxxBOCA-xXhy",
        "outputId": "e84bf491-c264-451d-ed64-5a7b2dfc7d2d"
      },
      "source": [
        "# This section does the split between train/dev for the parallel corpora then saves them as separate files\n",
        "# We use 1000 dev test and the given test set.\n",
        "import csv\n",
        "\n",
        "# Do the split between dev/train and create parallel corpora\n",
        "num_dev_patterns = 1000\n",
        "\n",
        "# Optional: lower case the corpora - this will make it easier to generalize, but without proper casing.\n",
        "if lc:  # Julia: making lowercasing optional\n",
        "    df_pp[\"source_sentence\"] = df_pp[\"source_sentence\"].str.lower()\n",
        "    df_pp[\"target_sentence\"] = df_pp[\"target_sentence\"].str.lower()\n",
        "\n",
        "# Julia: test sets are already generated\n",
        "dev = df_pp.tail(num_dev_patterns) # Herman: Error in original\n",
        "stripped = df_pp.drop(df_pp.tail(num_dev_patterns).index)\n",
        "\n",
        "with open(\"train.\"+source_language, \"w\") as src_file, open(\"train.\"+target_language, \"w\") as trg_file:\n",
        "  for index, row in stripped.iterrows():\n",
        "    src_file.write(row[\"source_sentence\"]+\"\\n\")\n",
        "    trg_file.write(row[\"target_sentence\"]+\"\\n\")\n",
        "    \n",
        "with open(\"dev.\"+source_language, \"w\") as src_file, open(\"dev.\"+target_language, \"w\") as trg_file:\n",
        "  for index, row in dev.iterrows():\n",
        "    src_file.write(row[\"source_sentence\"]+\"\\n\")\n",
        "    trg_file.write(row[\"target_sentence\"]+\"\\n\")\n",
        "\n",
        "#stripped[[\"source_sentence\"]].to_csv(\"train.\"+source_language, header=False, index=False)  # Herman: Added `header=False` everywhere\n",
        "#stripped[[\"target_sentence\"]].to_csv(\"train.\"+target_language, header=False, index=False)  # Julia: Problematic handling of quotation marks.\n",
        "\n",
        "#dev[[\"source_sentence\"]].to_csv(\"dev.\"+source_language, header=False, index=False)\n",
        "#dev[[\"target_sentence\"]].to_csv(\"dev.\"+target_language, header=False, index=False)\n",
        "\n",
        "# Doublecheck the format below. There should be no extra quotation marks or weird characters.\n",
        "! head train.*\n",
        "! head dev.*"
      ],
      "execution_count": null,
      "outputs": [
        {
          "output_type": "stream",
          "name": "stdout",
          "text": [
            "==> train.en <==\n",
            "How can we apply this counsel ? — Prov . 15 : 28 ; 16 : 23 .\n",
            "Consider what Jehovah will do for mankind .\n",
            "Unscrupulous men slander Jehovah ’ s Witnesses , branding them “ a dangerous cult . ”\n",
            "Nevertheless , we decided on a code that we would use to warn our spiritual brothers in case of trouble — 4711 , the name of a famous cologne .\n",
            "“ I Have Found Real Purpose in Life . ” — MARCOS PAULO DE SOUSA\n",
            "Jesus Saves — How ?\n",
            "André Caquot , member of the French Institute , speaks of “ the Canaanite cultural substratum at the heart of Israelite religion . ”\n",
            "Demands from your parents , friends , and teachers ; the physical and emotional changes of puberty ; or the feeling that you are a failure because of some minor shortcoming — all these things can leave you feeling melancholy and sad .\n",
            "A number of Greeks , perhaps including some who were Jewish proselytes , also believed .\n",
            "“ Clothe yourselves with the tender affections of compassion , kindness , lowliness of mind , mildness , and long-suffering . ” — Colossians 3 : 12 .\n",
            "\n",
            "==> train.ig <==\n",
            "Olee otú anyị nwere ike isi mee ihe a Baịbụl kwuru ? — Ilu 15 : 28 ; 16 : 23 .\n",
            "Chegodị ihe Jehova ga - emere ụmụ mmadụ .\n",
            "Mmadụ ndị na - enweghị ụkpụrụ na - ebo Ndịàmà Jehova ebubo ụgha , na - akpọ ha “ òtù nzuzo dị ize ndụ . ”\n",
            "Ka o sina dị , anyị kpebiri ihe mgbaàmà anyị ga - eji na - agwa ụmụnna anyị mgbe e nwere nsogbu — 4711 , aha otu sent na - ewu ewu a na - agba n’ahụ́ .\n",
            "“ Ndụ m enweela isi . ” — MAKOS PAULU DI SOZA\n",
            "Jisọs Na - azọpụta — N’ụzọ Dị Aṅaa ?\n",
            "André Caquot , bụ́ onye òtù French Institute , na - ekwu na “ okpukpe ndị Izrel dabeere n’ọdịbendị ndị Kenan . ”\n",
            "Ihe ndị mụrụ gị , ndị enyi , na ndị nkụzi gị chọrọ gị n’aka ; mgbanwe anụ ahụ na nke mmetụta uche nke oge ịgba ajị ; ma ọ bụ gị iche na ị baghị n’ihe n’ihi ụmụ emezighị emezi ụfọdụ — ihe ndị a nile pụrụ ime ka ị daa mbà n’obi ma nọrọ ná mwute .\n",
            "Ọtụtụ ndị Gris , nke nwere ike ịgụnye ndị nke na - eso ụzọ ndị Juu , ghọkwara ndị kwere ekwe .\n",
            "“ Yikwasịnụ onwe unu mmetụta ndị dị nro bụ́ ọmịiko , obiọma , ịdị umeala n’obi , ịdị nwayọọ , na ogologo ntachi obi . ” — Ndị Kọlọsi 3 : 12 .\n",
            "==> dev.en <==\n",
            "Under such circumstances , some may feel that the only option is divorce. — Proverbs 13 : 12 .\n",
            "Because as the Source of life , God sets out his laws and standards in the Bible “ for [ our ] good , ” or “ for [ our ] own well-being . ” — Deuteronomy 10 : 13 ; New Revised Standard Version .\n",
            "Such a fatalistic view holds many back from improving their health and leading a more productive life .\n",
            "God ’ s action against this wicked world will perfectly reflect both his justice and his love. — Ps . 92 : 7 ; Prov . 2 : 21 , 22 .\n",
            "At the time , it seemed most unlikely that they would .\n",
            "Because we often think best in pictures , illustrations can make concepts easier to grasp .\n",
            "Locating the Spiritual Paradise\n",
            "The Bible — Why So Many ?\n",
            "Though our lives and assignments have changed , our friendships remain . ”\n",
            "That spirit is Jehovah ’ s active force , and since it always acts in harmony with the will of the holy God , it is properly called “ holy spirit , ” or “ the spirit of holiness . ”\n",
            "\n",
            "==> dev.ig <==\n",
            "N’ọnọdụ ndị dị otú ahụ , ụfọdụ pụrụ iche na nanị ihe a ga - eme bụ ịgba alụkwaghịm . — Ilu 13 : 12 .\n",
            "Ọ bụ n’ihi na Chineke , bụ́ Isi Iyi nke ndụ , nyere iwu na ụkpụrụ ndị dị na Baịbụl “ maka ọdịmma [ anyị ] , ” ma ọ bụkwanụ “ ka o wee dịrị [ anyị ] mma . ” — Diuterọnọmi 10 : 13 ; Bible Nsọ nke Union Version .\n",
            "Iche echiche otú ahụ na - eme ka ọtụtụ ndị ghara ime ihe ga - enyere ha aka ka ahụ́ sie ha ike , ha enwee ike na - eme ihe dịịrị ha ná ndụ .\n",
            "Ihe Chineke ga - eme ụwa ọjọọ a ga - egosi nnọọ na ọ na - ekpe ikpe ziri ezi nakwa na ọ hụrụ ndị mmadụ n’anya . — Ọma 92 : 7 ; Ilu 2 : 21 , 22 .\n",
            "N’oge ahụ , o yiri ka ọ gaghị ekwe omume .\n",
            "Ebe ọ bụ na anyị na - aghọtakarị ihe nke ọma mgbe anyị ji anya nke uche na - ahụ ya , ihe atụ pụrụ ime ka echiche ụfọdụ dị mfe nghọta .\n",
            "Ịchọta Ebe Paradaịs Ime Mmụọ ahụ Dị\n",
            "Gịnị Mere E Ji Nwee Baịbụl Dị Iche Iche ?\n",
            "N’agbanyeghị na ndụ anyị na ozi anyị agbanweela , anyị ka bụkwa ezigbo enyi . ”\n",
            "Mmụọ nsọ bụ ike Jehova nọ n’ọrụ , ebe ọ bụkwa na mmụọ a na - arụ ọrụ mgbe nile n’ụzọ kwekọrọ n’uche Chineke dị nsọ , a kpọrọ ya aha kwesịrị ekwesị nke bụ́ “ mmụọ nsọ ” ma ọ bụ “ mmụọ nke dị nsọ . ”\n"
          ]
        }
      ]
    },
    {
      "cell_type": "markdown",
      "metadata": {
        "id": "epeCydmCyS8X"
      },
      "source": [
        "\n",
        "\n",
        "---\n",
        "\n",
        "\n",
        "## Installation of JoeyNMT\n",
        "\n",
        "JoeyNMT is a simple, minimalist NMT package which is useful for learning and teaching. Check out the documentation for JoeyNMT [here](https://joeynmt.readthedocs.io)  "
      ]
    },
    {
      "cell_type": "code",
      "metadata": {
        "colab": {
          "base_uri": "https://localhost:8080/"
        },
        "id": "iBRMm4kMxZ8L",
        "outputId": "3fc0d3dd-f773-4419-a43d-c5a00073ea0a"
      },
      "source": [
        "# Install JoeyNMT\n",
        "! git clone https://github.com/joeynmt/joeynmt.git\n",
        "! cd joeynmt; pip3 install .\n",
        "# Install Pytorch with GPU support v1.7.1.\n",
        "# ! pip install torch==1.9.0+cu101 -f https://download.pytorch.org/whl/torch_stable.html"
      ],
      "execution_count": null,
      "outputs": [
        {
          "output_type": "stream",
          "name": "stdout",
          "text": [
            "fatal: destination path 'joeynmt' already exists and is not an empty directory.\n",
            "Processing /content/joeynmt\n",
            "\u001b[33m  DEPRECATION: A future pip version will change local packages to be built in-place without first copying to a temporary directory. We recommend you use --use-feature=in-tree-build to test your packages with this new behavior before it becomes the default.\n",
            "   pip 21.3 will remove support for this functionality. You can find discussion regarding this at https://github.com/pypa/pip/issues/7555.\u001b[0m\n",
            "Requirement already satisfied: future in /usr/local/lib/python3.7/dist-packages (from joeynmt==1.3) (0.16.0)\n",
            "Requirement already satisfied: pillow in /usr/local/lib/python3.7/dist-packages (from joeynmt==1.3) (7.1.2)\n",
            "Requirement already satisfied: numpy>=1.19.5 in /usr/local/lib/python3.7/dist-packages (from joeynmt==1.3) (1.19.5)\n",
            "Requirement already satisfied: setuptools>=41.0.0 in /usr/local/lib/python3.7/dist-packages (from joeynmt==1.3) (57.4.0)\n",
            "Requirement already satisfied: torch>=1.9.0 in /usr/local/lib/python3.7/dist-packages (from joeynmt==1.3) (1.9.0+cu111)\n",
            "Requirement already satisfied: tensorboard>=1.15 in /usr/local/lib/python3.7/dist-packages (from joeynmt==1.3) (2.6.0)\n",
            "Requirement already satisfied: torchtext>=0.10.0 in /usr/local/lib/python3.7/dist-packages (from joeynmt==1.3) (0.10.0)\n",
            "Requirement already satisfied: sacrebleu>=2.0.0 in /usr/local/lib/python3.7/dist-packages (from joeynmt==1.3) (2.0.0)\n",
            "Requirement already satisfied: subword-nmt in /usr/local/lib/python3.7/dist-packages (from joeynmt==1.3) (0.3.7)\n",
            "Requirement already satisfied: matplotlib in /usr/local/lib/python3.7/dist-packages (from joeynmt==1.3) (3.2.2)\n",
            "Requirement already satisfied: seaborn in /usr/local/lib/python3.7/dist-packages (from joeynmt==1.3) (0.11.2)\n",
            "Requirement already satisfied: pyyaml>=5.1 in /usr/local/lib/python3.7/dist-packages (from joeynmt==1.3) (6.0)\n",
            "Requirement already satisfied: pylint>=2.9.6 in /usr/local/lib/python3.7/dist-packages (from joeynmt==1.3) (2.11.1)\n",
            "Requirement already satisfied: six==1.12 in /usr/local/lib/python3.7/dist-packages (from joeynmt==1.3) (1.12.0)\n",
            "Requirement already satisfied: wrapt==1.11.1 in /usr/local/lib/python3.7/dist-packages (from joeynmt==1.3) (1.11.1)\n",
            "Requirement already satisfied: typing-extensions>=3.10.0 in /usr/local/lib/python3.7/dist-packages (from pylint>=2.9.6->joeynmt==1.3) (3.10.0.2)\n",
            "Requirement already satisfied: platformdirs>=2.2.0 in /usr/local/lib/python3.7/dist-packages (from pylint>=2.9.6->joeynmt==1.3) (2.4.0)\n",
            "Requirement already satisfied: toml>=0.7.1 in /usr/local/lib/python3.7/dist-packages (from pylint>=2.9.6->joeynmt==1.3) (0.10.2)\n",
            "Requirement already satisfied: mccabe<0.7,>=0.6 in /usr/local/lib/python3.7/dist-packages (from pylint>=2.9.6->joeynmt==1.3) (0.6.1)\n",
            "Requirement already satisfied: isort<6,>=4.2.5 in /usr/local/lib/python3.7/dist-packages (from pylint>=2.9.6->joeynmt==1.3) (5.9.3)\n",
            "Requirement already satisfied: astroid<2.9,>=2.8.0 in /usr/local/lib/python3.7/dist-packages (from pylint>=2.9.6->joeynmt==1.3) (2.8.2)\n",
            "Requirement already satisfied: lazy-object-proxy>=1.4.0 in /usr/local/lib/python3.7/dist-packages (from astroid<2.9,>=2.8.0->pylint>=2.9.6->joeynmt==1.3) (1.6.0)\n",
            "Requirement already satisfied: typed-ast<1.5,>=1.4.0 in /usr/local/lib/python3.7/dist-packages (from astroid<2.9,>=2.8.0->pylint>=2.9.6->joeynmt==1.3) (1.4.3)\n",
            "Requirement already satisfied: regex in /usr/local/lib/python3.7/dist-packages (from sacrebleu>=2.0.0->joeynmt==1.3) (2019.12.20)\n",
            "Requirement already satisfied: portalocker in /usr/local/lib/python3.7/dist-packages (from sacrebleu>=2.0.0->joeynmt==1.3) (2.3.2)\n",
            "Requirement already satisfied: colorama in /usr/local/lib/python3.7/dist-packages (from sacrebleu>=2.0.0->joeynmt==1.3) (0.4.4)\n",
            "Requirement already satisfied: tabulate>=0.8.9 in /usr/local/lib/python3.7/dist-packages (from sacrebleu>=2.0.0->joeynmt==1.3) (0.8.9)\n",
            "Requirement already satisfied: grpcio>=1.24.3 in /usr/local/lib/python3.7/dist-packages (from tensorboard>=1.15->joeynmt==1.3) (1.41.0)\n",
            "Requirement already satisfied: google-auth<2,>=1.6.3 in /usr/local/lib/python3.7/dist-packages (from tensorboard>=1.15->joeynmt==1.3) (1.35.0)\n",
            "Requirement already satisfied: requests<3,>=2.21.0 in /usr/local/lib/python3.7/dist-packages (from tensorboard>=1.15->joeynmt==1.3) (2.23.0)\n",
            "Requirement already satisfied: absl-py>=0.4 in /usr/local/lib/python3.7/dist-packages (from tensorboard>=1.15->joeynmt==1.3) (0.12.0)\n",
            "Requirement already satisfied: protobuf>=3.6.0 in /usr/local/lib/python3.7/dist-packages (from tensorboard>=1.15->joeynmt==1.3) (3.17.3)\n",
            "Requirement already satisfied: google-auth-oauthlib<0.5,>=0.4.1 in /usr/local/lib/python3.7/dist-packages (from tensorboard>=1.15->joeynmt==1.3) (0.4.6)\n",
            "Requirement already satisfied: tensorboard-data-server<0.7.0,>=0.6.0 in /usr/local/lib/python3.7/dist-packages (from tensorboard>=1.15->joeynmt==1.3) (0.6.1)\n",
            "Requirement already satisfied: markdown>=2.6.8 in /usr/local/lib/python3.7/dist-packages (from tensorboard>=1.15->joeynmt==1.3) (3.3.4)\n",
            "Requirement already satisfied: wheel>=0.26 in /usr/local/lib/python3.7/dist-packages (from tensorboard>=1.15->joeynmt==1.3) (0.37.0)\n",
            "Requirement already satisfied: tensorboard-plugin-wit>=1.6.0 in /usr/local/lib/python3.7/dist-packages (from tensorboard>=1.15->joeynmt==1.3) (1.8.0)\n",
            "Requirement already satisfied: werkzeug>=0.11.15 in /usr/local/lib/python3.7/dist-packages (from tensorboard>=1.15->joeynmt==1.3) (1.0.1)\n",
            "Requirement already satisfied: pyasn1-modules>=0.2.1 in /usr/local/lib/python3.7/dist-packages (from google-auth<2,>=1.6.3->tensorboard>=1.15->joeynmt==1.3) (0.2.8)\n",
            "Requirement already satisfied: rsa<5,>=3.1.4 in /usr/local/lib/python3.7/dist-packages (from google-auth<2,>=1.6.3->tensorboard>=1.15->joeynmt==1.3) (4.7.2)\n",
            "Requirement already satisfied: cachetools<5.0,>=2.0.0 in /usr/local/lib/python3.7/dist-packages (from google-auth<2,>=1.6.3->tensorboard>=1.15->joeynmt==1.3) (4.2.4)\n",
            "Requirement already satisfied: requests-oauthlib>=0.7.0 in /usr/local/lib/python3.7/dist-packages (from google-auth-oauthlib<0.5,>=0.4.1->tensorboard>=1.15->joeynmt==1.3) (1.3.0)\n",
            "Requirement already satisfied: importlib-metadata in /usr/local/lib/python3.7/dist-packages (from markdown>=2.6.8->tensorboard>=1.15->joeynmt==1.3) (4.8.1)\n",
            "Requirement already satisfied: pyasn1<0.5.0,>=0.4.6 in /usr/local/lib/python3.7/dist-packages (from pyasn1-modules>=0.2.1->google-auth<2,>=1.6.3->tensorboard>=1.15->joeynmt==1.3) (0.4.8)\n",
            "Requirement already satisfied: urllib3!=1.25.0,!=1.25.1,<1.26,>=1.21.1 in /usr/local/lib/python3.7/dist-packages (from requests<3,>=2.21.0->tensorboard>=1.15->joeynmt==1.3) (1.24.3)\n",
            "Requirement already satisfied: chardet<4,>=3.0.2 in /usr/local/lib/python3.7/dist-packages (from requests<3,>=2.21.0->tensorboard>=1.15->joeynmt==1.3) (3.0.4)\n",
            "Requirement already satisfied: certifi>=2017.4.17 in /usr/local/lib/python3.7/dist-packages (from requests<3,>=2.21.0->tensorboard>=1.15->joeynmt==1.3) (2021.5.30)\n",
            "Requirement already satisfied: idna<3,>=2.5 in /usr/local/lib/python3.7/dist-packages (from requests<3,>=2.21.0->tensorboard>=1.15->joeynmt==1.3) (2.10)\n",
            "Requirement already satisfied: oauthlib>=3.0.0 in /usr/local/lib/python3.7/dist-packages (from requests-oauthlib>=0.7.0->google-auth-oauthlib<0.5,>=0.4.1->tensorboard>=1.15->joeynmt==1.3) (3.1.1)\n",
            "Requirement already satisfied: tqdm in /usr/local/lib/python3.7/dist-packages (from torchtext>=0.10.0->joeynmt==1.3) (4.62.3)\n",
            "Requirement already satisfied: zipp>=0.5 in /usr/local/lib/python3.7/dist-packages (from importlib-metadata->markdown>=2.6.8->tensorboard>=1.15->joeynmt==1.3) (3.6.0)\n",
            "Requirement already satisfied: pyparsing!=2.0.4,!=2.1.2,!=2.1.6,>=2.0.1 in /usr/local/lib/python3.7/dist-packages (from matplotlib->joeynmt==1.3) (2.4.7)\n",
            "Requirement already satisfied: cycler>=0.10 in /usr/local/lib/python3.7/dist-packages (from matplotlib->joeynmt==1.3) (0.10.0)\n",
            "Requirement already satisfied: kiwisolver>=1.0.1 in /usr/local/lib/python3.7/dist-packages (from matplotlib->joeynmt==1.3) (1.3.2)\n",
            "Requirement already satisfied: python-dateutil>=2.1 in /usr/local/lib/python3.7/dist-packages (from matplotlib->joeynmt==1.3) (2.8.2)\n",
            "Requirement already satisfied: scipy>=1.0 in /usr/local/lib/python3.7/dist-packages (from seaborn->joeynmt==1.3) (1.4.1)\n",
            "Requirement already satisfied: pandas>=0.23 in /usr/local/lib/python3.7/dist-packages (from seaborn->joeynmt==1.3) (1.1.5)\n",
            "Requirement already satisfied: pytz>=2017.2 in /usr/local/lib/python3.7/dist-packages (from pandas>=0.23->seaborn->joeynmt==1.3) (2018.9)\n",
            "Building wheels for collected packages: joeynmt\n",
            "  Building wheel for joeynmt (setup.py) ... \u001b[?25l\u001b[?25hdone\n",
            "  Created wheel for joeynmt: filename=joeynmt-1.3-py3-none-any.whl size=86029 sha256=15419cdc6c474e7a9e65a695f0166c53b4d792c31e4d690617ade91fba055263\n",
            "  Stored in directory: /tmp/pip-ephem-wheel-cache-17z5q2zg/wheels/0a/f4/bf/6c9d3b8efbfece6cd209f865be37382b02e7c3584df2e28ca4\n",
            "Successfully built joeynmt\n",
            "Installing collected packages: joeynmt\n",
            "  Attempting uninstall: joeynmt\n",
            "    Found existing installation: joeynmt 1.3\n",
            "    Uninstalling joeynmt-1.3:\n",
            "      Successfully uninstalled joeynmt-1.3\n",
            "Successfully installed joeynmt-1.3\n"
          ]
        }
      ]
    },
    {
      "cell_type": "markdown",
      "metadata": {
        "id": "AaE77Tcppex9"
      },
      "source": [
        "# Preprocessing the Data into Subword BPE Tokens\n",
        "\n",
        "- One of the most powerful improvements for agglutinative languages (a feature of most Bantu languages) is using BPE tokenization [ (Sennrich, 2015) ](https://arxiv.org/abs/1508.07909).\n",
        "\n",
        "- It was also shown that by optimizing the umber of BPE codes we significantly improve results for low-resourced languages [(Sennrich, 2019)](https://www.aclweb.org/anthology/P19-1021) [(Martinus, 2019)](https://arxiv.org/abs/1906.05685)\n",
        "\n",
        "- Below we have the scripts for doing BPE tokenization of our data. We use 4000 tokens as recommended by [(Sennrich, 2019)](https://www.aclweb.org/anthology/P19-1021). You do not need to change anything. Simply running the below will be suitable. "
      ]
    },
    {
      "cell_type": "code",
      "metadata": {
        "colab": {
          "base_uri": "https://localhost:8080/"
        },
        "id": "H-TyjtmXB1mL",
        "outputId": "f8a4d17b-af61-4d67-c7a3-204bde1e12ca"
      },
      "source": [
        "# One of the huge boosts in NMT performance was to use a different method of tokenizing. \n",
        "# Usually, NMT would tokenize by words. However, using a method called BPE gave amazing boosts to performance\n",
        "\n",
        "# Do subword NMT\n",
        "from os import path\n",
        "os.environ[\"src\"] = source_language # Sets them in bash as well, since we often use bash scripts\n",
        "os.environ[\"tgt\"] = target_language\n",
        "\n",
        "# Learn BPEs on the training data.\n",
        "os.environ[\"data_path\"] = path.join(\"joeynmt\", \"data\",target_language + source_language ) # Herman! \n",
        "! subword-nmt learn-joint-bpe-and-vocab --input train.$src train.$tgt -s 4000 -o bpe.codes.4000 --write-vocabulary vocab.$src vocab.$tgt\n",
        "\n",
        "# Apply BPE splits to the development and test data.\n",
        "! subword-nmt apply-bpe -c bpe.codes.4000 --vocabulary vocab.$src < train.$src > train.bpe.$src\n",
        "! subword-nmt apply-bpe -c bpe.codes.4000 --vocabulary vocab.$tgt < train.$tgt > train.bpe.$tgt\n",
        "\n",
        "! subword-nmt apply-bpe -c bpe.codes.4000 --vocabulary vocab.$src < dev.$src > dev.bpe.$src\n",
        "! subword-nmt apply-bpe -c bpe.codes.4000 --vocabulary vocab.$tgt < dev.$tgt > dev.bpe.$tgt\n",
        "! subword-nmt apply-bpe -c bpe.codes.4000 --vocabulary vocab.$src < test.$src > test.bpe.$src\n",
        "! subword-nmt apply-bpe -c bpe.codes.4000 --vocabulary vocab.$tgt < test.$tgt > test.bpe.$tgt\n",
        "\n",
        "# Create directory, move everyone we care about to the correct location\n",
        "! mkdir -p $data_path\n",
        "! cp train.* $data_path\n",
        "! cp test.* $data_path\n",
        "! cp dev.* $data_path\n",
        "! cp bpe.codes.4000 $data_path\n",
        "! ls $data_path\n",
        "\n",
        "# Also move everything we care about to a mounted location in google drive (relevant if running in colab) at gdrive_path\n",
        "! cp train.* \"$gdrive_path\"\n",
        "! cp test.* \"$gdrive_path\"\n",
        "! cp dev.* \"$gdrive_path\"\n",
        "! cp bpe.codes.4000 \"$gdrive_path\"\n",
        "! ls \"$gdrive_path\"\n",
        "\n",
        "# Create that vocab using build_vocab\n",
        "! sudo chmod 777 joeynmt/scripts/build_vocab.py\n",
        "! joeynmt/scripts/build_vocab.py joeynmt/data/$tgt$src/train.bpe.$src joeynmt/data/$tgt$src/train.bpe.$tgt --output_path joeynmt/data/$tgt$src/vocab.txt\n",
        "\n",
        "# Some output\n",
        "! echo \"BPE English Sentences\"\n",
        "! tail -n 5 test.bpe.$tgt\n",
        "! echo \"Combined BPE Vocab\"\n",
        "! tail -n 10 joeynmt/data/$tgt$src/vocab.txt  # Herman"
      ],
      "execution_count": null,
      "outputs": [
        {
          "output_type": "stream",
          "name": "stdout",
          "text": [
            "bpe.codes.4000\tdev.en\t     test.bpe.ig     test.ig\t   train.en\n",
            "dev.bpe.en\tdev.ig\t     test.en\t     train.bpe.en  train.ig\n",
            "dev.bpe.ig\ttest.bpe.en  test.en-any.en  train.bpe.ig\n",
            "bpe.codes.4000\tdev.ig\t     test.en\t       test.en-any.en.3  train.bpe.en\n",
            "dev.bpe.en\tmodels\t     test.en-any.en    test.en-any.en.4  train.bpe.ig\n",
            "dev.bpe.ig\ttest.bpe.en  test.en-any.en.1  test.en-any.en.5  train.en\n",
            "dev.en\t\ttest.bpe.ig  test.en-any.en.2  test.ig\t\t train.ig\n",
            "BPE English Sentences\n",
            "Gịnị mere H@@ us@@ ha@@ ị ji kwesị inwe obi ike ka o nwee ike ịkw@@ ado Chineke ?\n",
            "Gịnị mere anyị ji kwesị inwe obi ike ka anyị nwee ike ịna - akwado Jehova ?\n",
            "M kpere ekpere ka Jehova nye m obi ike ime ihe m kpebiri .\n",
            "I@@ we ha ad@@ aj@@ ụ@@ ọla ugbu a . M na - ag@@ azi ahụ ha mgbe niile . ” — Gụọ Ilu 29 : 25 .\n",
            "[ 1 ] ( par@@ ag@@ ra@@ f nke 7 ) A@@ ha a kpọrọ ụfọdụ ndị n’isiokwu a abụghị ezigbo aha ha .\n",
            "Combined BPE Vocab\n",
            "ô\n",
            "õ@@\n",
            "◀\n",
            "×\n",
            "eazụ\n",
            "̇\n",
            "ạ@@\n",
            "ḥ\n",
            "▼\n",
            "ş\n"
          ]
        }
      ]
    },
    {
      "cell_type": "code",
      "metadata": {
        "colab": {
          "base_uri": "https://localhost:8080/"
        },
        "id": "IlMitUHR8Qy-",
        "outputId": "49404336-2732-4738-a465-60812ca507b2"
      },
      "source": [
        "# Also move everything we care about to a mounted location in google drive (relevant if running in colab) at gdrive_path\n",
        "! cp train.* \"$gdrive_path\"\n",
        "! cp test.* \"$gdrive_path\"\n",
        "! cp dev.* \"$gdrive_path\"\n",
        "! cp bpe.codes.4000 \"$gdrive_path\"\n",
        "! ls \"$gdrive_path\""
      ],
      "execution_count": null,
      "outputs": [
        {
          "output_type": "stream",
          "name": "stdout",
          "text": [
            "bpe.codes.4000\tdev.ig\t     test.en\t       test.en-any.en.3  train.bpe.en\n",
            "dev.bpe.en\tmodels\t     test.en-any.en    test.en-any.en.4  train.bpe.ig\n",
            "dev.bpe.ig\ttest.bpe.en  test.en-any.en.1  test.en-any.en.5  train.en\n",
            "dev.en\t\ttest.bpe.ig  test.en-any.en.2  test.ig\t\t train.ig\n"
          ]
        }
      ]
    },
    {
      "cell_type": "markdown",
      "metadata": {
        "id": "Ixmzi60WsUZ8"
      },
      "source": [
        "# Creating the JoeyNMT Config\n",
        "\n",
        "JoeyNMT requires a yaml config. We provide a template below. We've also set a number of defaults with it, that you may play with!\n",
        "\n",
        "- We used Transformer architecture \n",
        "- We set our dropout to reasonably high: 0.3 (recommended in  [(Sennrich, 2019)](https://www.aclweb.org/anthology/P19-1021))\n",
        "\n",
        "Things worth playing with:\n",
        "- The batch size (also recommended to change for low-resourced languages)\n",
        "- The number of epochs (we've set it at 30 just so it runs in about an hour, for testing purposes)\n",
        "- The decoder options (beam_size, alpha)\n",
        "- Evaluation metrics (BLEU versus Crhf4)"
      ]
    },
    {
      "cell_type": "code",
      "metadata": {
        "id": "h8TMgv1p3L1z"
      },
      "source": [
        "# This creates the config file for our JoeyNMT system. It might seem overwhelming so we've provided a couple of useful parameters you'll need to update\n",
        "# (You can of course play with all the parameters if you'd like!)\n",
        "\n",
        "name = '%s%s' % (target_language, source_language)\n",
        "# gdrive_path = os.environ[\"gdrive_path\"]\n",
        "\n",
        "# Create the config\n",
        "config = \"\"\"\n",
        "name: \"{target_language}{source_language}_reverse_transformer\"\n",
        "\n",
        "data:\n",
        "    src: \"{target_language}\"\n",
        "    trg: \"{source_language}\"\n",
        "    train: \"data/{name}/train.bpe\"\n",
        "    dev:   \"data/{name}/dev.bpe\"\n",
        "    test:  \"data/{name}/test.bpe\"\n",
        "    level: \"bpe\"\n",
        "    lowercase: False\n",
        "    max_sent_length: 100\n",
        "    src_vocab: \"data/{name}/vocab.txt\"\n",
        "    trg_vocab: \"data/{name}/vocab.txt\"\n",
        "\n",
        "testing:\n",
        "    beam_size: 5\n",
        "    alpha: 1.0\n",
        "\n",
        "training:\n",
        "    load_model: \"{gdrive_path}/models/{name}_reverse_transformer/39000.ckpt\" # if uncommented, load a pre-trained model from this checkpoint\n",
        "    random_seed: 42\n",
        "    optimizer: \"adam\"\n",
        "    normalization: \"tokens\"\n",
        "    adam_betas: [0.9, 0.999] \n",
        "    scheduling: \"Noam\"           # TODO: try switching from plateau to Noam scheduling\n",
        "    patience: 5                     # For plateau: decrease learning rate by decrease_factor if validation score has not improved for this many validation rounds.\n",
        "    learning_rate_factor: 0.5       # factor for Noam scheduler (used with Transformer)\n",
        "    learning_rate_warmup: 1000      # warmup steps for Noam scheduler (used with Transformer)\n",
        "    decrease_factor: 0.7\n",
        "    loss: \"crossentropy\"\n",
        "    learning_rate: 0.0001\n",
        "    learning_rate_min: 0.00000001\n",
        "    weight_decay: 0.0\n",
        "    label_smoothing: 0.1\n",
        "    batch_size: 4096\n",
        "    batch_type: \"token\"\n",
        "    eval_batch_size: 3600\n",
        "    eval_batch_type: \"token\"\n",
        "    batch_multiplier: 1\n",
        "    early_stopping_metric: \"ppl\"\n",
        "    epochs: 2                  # TODO: Decrease for when playing around and checking of working. Around 30 is sufficient to check if its working at all\n",
        "    validation_freq: 1000          # TODO: Set to at least once per epoch.\n",
        "    logging_freq: 100\n",
        "    eval_metric: \"bleu\"\n",
        "    model_dir: \"models/{name}_reverse_transformer\"\n",
        "    overwrite: True              # TODO: Set to True if you want to overwrite possibly existing models. \n",
        "    shuffle: True\n",
        "    use_cuda: True\n",
        "    max_output_length: 100\n",
        "    print_valid_sents: [0, 1, 2, 3]\n",
        "    keep_last_ckpts: 3\n",
        "\n",
        "model:\n",
        "    initializer: \"xavier\"\n",
        "    bias_initializer: \"zeros\"\n",
        "    init_gain: 1.0\n",
        "    embed_initializer: \"xavier\"\n",
        "    embed_init_gain: 1.0\n",
        "    tied_embeddings: True\n",
        "    tied_softmax: True\n",
        "    encoder:\n",
        "        type: \"transformer\"\n",
        "        num_layers: 6\n",
        "        num_heads: 4             # TODO: Increase to 8 for larger data.\n",
        "        embeddings:\n",
        "            embedding_dim: 256   # TODO: Increase to 512 for larger data.\n",
        "            scale: True\n",
        "            dropout: 0.2\n",
        "        # typically ff_size = 4 x hidden_size\n",
        "        hidden_size: 256         # TODO: Increase to 512 for larger data.\n",
        "        ff_size: 1024            # TODO: Increase to 2048 for larger data.\n",
        "        dropout: 0.3\n",
        "    decoder:\n",
        "        type: \"transformer\"\n",
        "        num_layers: 6\n",
        "        num_heads: 4              # TODO: Increase to 8 for larger data.\n",
        "        embeddings:\n",
        "            embedding_dim: 256    # TODO: Increase to 512 for larger data.\n",
        "            scale: True\n",
        "            dropout: 0.2\n",
        "        # typically ff_size = 4 x hidden_size\n",
        "        hidden_size: 256         # TODO: Increase to 512 for larger data.\n",
        "        ff_size: 1024            # TODO: Increase to 2048 for larger data.\n",
        "        dropout: 0.3\n",
        "\"\"\".format(name=name, gdrive_path=os.environ[\"gdrive_path\"], source_language=source_language, target_language=target_language)\n",
        "with open(\"joeynmt/configs/transformer_reverse_{name}.yaml\".format(name=name),'w') as f:\n",
        "    f.write(config)"
      ],
      "execution_count": null,
      "outputs": []
    },
    {
      "cell_type": "markdown",
      "metadata": {
        "id": "oEzoJtV2MIpt"
      },
      "source": [
        "# Train the Model\n",
        "\n",
        "This single line of joeynmt runs the training using the config we made above"
      ]
    },
    {
      "cell_type": "code",
      "metadata": {
        "colab": {
          "base_uri": "https://localhost:8080/"
        },
        "id": "WzbNYNdjLgNb",
        "outputId": "a5143978-b7cc-4825-cf94-1e34f59ea17f"
      },
      "source": [
        "# Train the model\n",
        "# You can press Ctrl-C to stop. And then run the next cell to save your checkpoints! \n",
        "!cd joeynmt; python3 -m joeynmt train configs/transformer_reverse_$tgt$src.yaml"
      ],
      "execution_count": null,
      "outputs": [
        {
          "output_type": "stream",
          "name": "stdout",
          "text": [
            "2021-10-14 13:21:59,499 - INFO - root - Hello! This is Joey-NMT (version 1.3).\n",
            "2021-10-14 13:21:59,515 - INFO - joeynmt.data - Loading training data...\n",
            "2021-10-14 13:22:07,627 - INFO - joeynmt.data - Building vocabulary...\n",
            "2021-10-14 13:22:07,920 - INFO - joeynmt.data - Loading dev data...\n",
            "2021-10-14 13:22:07,976 - INFO - joeynmt.data - Loading test data...\n",
            "2021-10-14 13:22:07,999 - INFO - joeynmt.data - Data loaded.\n",
            "2021-10-14 13:22:07,999 - INFO - joeynmt.model - Building an encoder-decoder model...\n",
            "2021-10-14 13:22:08,185 - INFO - joeynmt.model - Enc-dec model built.\n",
            "2021-10-14 13:22:09,207 - INFO - joeynmt.training - Total params: 12188928\n",
            "2021-10-14 13:22:09,209 - WARNING - joeynmt.training - `keep_last_ckpts` option is outdated. Please use `keep_best_ckpts`, instead.\n",
            "2021-10-14 13:22:12,318 - INFO - joeynmt.training - Loading model from /content/drive/My Drive/masakhane/ig-en-baseline/models/igen_reverse_transformer/39000.ckpt\n",
            "Traceback (most recent call last):\n",
            "  File \"/usr/lib/python3.7/runpy.py\", line 193, in _run_module_as_main\n",
            "    \"__main__\", mod_spec)\n",
            "  File \"/usr/lib/python3.7/runpy.py\", line 85, in _run_code\n",
            "    exec(code, run_globals)\n",
            "  File \"/content/joeynmt/joeynmt/__main__.py\", line 48, in <module>\n",
            "    main()\n",
            "  File \"/content/joeynmt/joeynmt/__main__.py\", line 35, in main\n",
            "    train(cfg_file=args.config_path, skip_test=args.skip_test)\n",
            "  File \"/content/joeynmt/joeynmt/training.py\", line 823, in train\n",
            "    trainer = TrainManager(model=model, config=cfg)\n",
            "  File \"/content/joeynmt/joeynmt/training.py\", line 218, in __init__\n",
            "    reset_iter_state=train_config.get(\"reset_iter_state\", False))\n",
            "  File \"/content/joeynmt/joeynmt/training.py\", line 341, in init_from_checkpoint\n",
            "    model_checkpoint[\"scheduler_state\"])\n",
            "  File \"/content/joeynmt/joeynmt/builders.py\", line 239, in load_state_dict\n",
            "    self._step = state_dict[\"step\"]\n",
            "KeyError: 'step'\n"
          ]
        }
      ]
    },
    {
      "cell_type": "code",
      "metadata": {
        "id": "MBoDS09JM807"
      },
      "source": [
        "# Copy the created models from the notebook storage to google drive for persistant storage \n",
        "!mkdir -p \"$gdrive_path/models/${tgt}${src}_reverse_transformer/\"\n",
        "!cp -r joeynmt/models/${tgt}${src}_reverse_transformer/* \"$gdrive_path/models/${tgt}${src}_reverse_transformer/\""
      ],
      "execution_count": null,
      "outputs": []
    },
    {
      "cell_type": "code",
      "metadata": {
        "colab": {
          "base_uri": "https://localhost:8080/"
        },
        "id": "n94wlrCjVc17",
        "outputId": "089ad909-8b37-4666-98a0-fdc31d94a085"
      },
      "source": [
        "# Output our validation accuracy\n",
        "! cat \"$gdrive_path/models/${tgt}${src}_reverse_transformer/validations.txt\""
      ],
      "execution_count": null,
      "outputs": [
        {
          "output_type": "stream",
          "name": "stdout",
          "text": [
            "Steps: 1000\tLoss: 135012.28125\tPPL: 118.62696\tbleu: 0.04862\tLR: 0.00010000\t*\n",
            "Steps: 2000\tLoss: 123060.98438\tPPL: 77.72783\tbleu: 1.27768\tLR: 0.00010000\t*\n",
            "Steps: 3000\tLoss: 116421.66406\tPPL: 61.45781\tbleu: 2.77660\tLR: 0.00010000\t*\n",
            "Steps: 4000\tLoss: 110837.97656\tPPL: 50.44237\tbleu: 2.94200\tLR: 0.00010000\t*\n",
            "Steps: 5000\tLoss: 105754.94531\tPPL: 42.14103\tbleu: 4.94808\tLR: 0.00010000\t*\n",
            "Steps: 6000\tLoss: 101641.03125\tPPL: 36.43371\tbleu: 6.38605\tLR: 0.00010000\t*\n",
            "Steps: 7000\tLoss: 97944.82031\tPPL: 31.96825\tbleu: 7.60692\tLR: 0.00010000\t*\n",
            "Steps: 8000\tLoss: 94806.87500\tPPL: 28.60954\tbleu: 9.06161\tLR: 0.00010000\t*\n",
            "Steps: 9000\tLoss: 91973.19531\tPPL: 25.88077\tbleu: 9.79149\tLR: 0.00010000\t*\n",
            "Steps: 10000\tLoss: 89567.19531\tPPL: 23.76917\tbleu: 10.59863\tLR: 0.00010000\t*\n",
            "Steps: 11000\tLoss: 87448.46875\tPPL: 22.05282\tbleu: 11.76897\tLR: 0.00010000\t*\n",
            "Steps: 12000\tLoss: 85623.60156\tPPL: 20.67421\tbleu: 12.36754\tLR: 0.00010000\t*\n",
            "Steps: 13000\tLoss: 83798.09375\tPPL: 19.38134\tbleu: 12.22242\tLR: 0.00010000\t*\n",
            "Steps: 14000\tLoss: 82174.21875\tPPL: 18.29938\tbleu: 13.17530\tLR: 0.00010000\t*\n",
            "Steps: 15000\tLoss: 80893.35156\tPPL: 17.48874\tbleu: 14.18069\tLR: 0.00010000\t*\n",
            "Steps: 16000\tLoss: 79509.75000\tPPL: 16.65337\tbleu: 14.32408\tLR: 0.00010000\t*\n",
            "Steps: 17000\tLoss: 78396.45312\tPPL: 16.01027\tbleu: 14.69739\tLR: 0.00010000\t*\n",
            "Steps: 18000\tLoss: 77170.23438\tPPL: 15.33065\tbleu: 14.39529\tLR: 0.00010000\t*\n",
            "Steps: 19000\tLoss: 76393.78125\tPPL: 14.91530\tbleu: 15.11841\tLR: 0.00010000\t*\n",
            "Steps: 20000\tLoss: 75065.94531\tPPL: 14.23090\tbleu: 16.15456\tLR: 0.00010000\t*\n",
            "Steps: 21000\tLoss: 74167.39062\tPPL: 13.78567\tbleu: 17.18543\tLR: 0.00010000\t*\n",
            "Steps: 22000\tLoss: 73239.67969\tPPL: 13.34061\tbleu: 17.53452\tLR: 0.00010000\t*\n",
            "Steps: 23000\tLoss: 72446.66406\tPPL: 12.97157\tbleu: 17.78409\tLR: 0.00010000\t*\n",
            "Steps: 24000\tLoss: 71631.89844\tPPL: 12.60304\tbleu: 18.03048\tLR: 0.00010000\t*\n",
            "Steps: 25000\tLoss: 70756.28906\tPPL: 12.21866\tbleu: 18.09270\tLR: 0.00010000\t*\n",
            "Steps: 26000\tLoss: 70021.45312\tPPL: 11.90513\tbleu: 18.36834\tLR: 0.00010000\t*\n",
            "Steps: 27000\tLoss: 69418.54688\tPPL: 11.65392\tbleu: 19.38038\tLR: 0.00010000\t*\n",
            "Steps: 28000\tLoss: 68877.83594\tPPL: 11.43313\tbleu: 19.59778\tLR: 0.00010000\t*\n",
            "Steps: 29000\tLoss: 67979.71094\tPPL: 11.07560\tbleu: 19.81765\tLR: 0.00010000\t*\n",
            "Steps: 30000\tLoss: 67363.13281\tPPL: 10.83664\tbleu: 19.95217\tLR: 0.00010000\t*\n",
            "Steps: 31000\tLoss: 66763.04688\tPPL: 10.60903\tbleu: 20.22744\tLR: 0.00010000\t*\n",
            "Steps: 32000\tLoss: 66176.24219\tPPL: 10.39108\tbleu: 20.77539\tLR: 0.00010000\t*\n",
            "Steps: 33000\tLoss: 65754.00781\tPPL: 10.23703\tbleu: 21.27005\tLR: 0.00010000\t*\n",
            "Steps: 34000\tLoss: 65096.06250\tPPL: 10.00152\tbleu: 21.63750\tLR: 0.00010000\t*\n",
            "Steps: 35000\tLoss: 64828.67969\tPPL: 9.90736\tbleu: 21.41873\tLR: 0.00010000\t*\n",
            "Steps: 36000\tLoss: 64237.38672\tPPL: 9.70229\tbleu: 21.55469\tLR: 0.00010000\t*\n",
            "Steps: 37000\tLoss: 63903.40625\tPPL: 9.58833\tbleu: 21.73805\tLR: 0.00010000\t*\n",
            "Steps: 38000\tLoss: 63427.19141\tPPL: 9.42816\tbleu: 22.34862\tLR: 0.00010000\t*\n",
            "Steps: 39000\tLoss: 63085.16797\tPPL: 9.31478\tbleu: 22.36681\tLR: 0.00010000\t*\n"
          ]
        }
      ]
    },
    {
      "cell_type": "code",
      "metadata": {
        "colab": {
          "base_uri": "https://localhost:8080/"
        },
        "id": "66WhRE9lIhoD",
        "outputId": "12315918-3415-4481-db82-26b06b1c2e3b"
      },
      "source": [
        "# Test our model\n",
        "! cd joeynmt; python3 -m joeynmt test \"$gdrive_path/models/${tgt}${src}_reverse_transformer/config.yaml\""
      ],
      "execution_count": null,
      "outputs": [
        {
          "output_type": "stream",
          "name": "stdout",
          "text": [
            "2021-10-14 12:57:07,773 - INFO - root - Hello! This is Joey-NMT (version 1.3).\n",
            "2021-10-14 12:57:07,773 - INFO - joeynmt.data - Building vocabulary...\n",
            "2021-10-14 12:57:08,066 - INFO - joeynmt.data - Loading dev data...\n",
            "2021-10-14 12:57:08,077 - INFO - joeynmt.data - Loading test data...\n",
            "2021-10-14 12:57:08,132 - INFO - joeynmt.data - Data loaded.\n",
            "2021-10-14 12:57:08,148 - INFO - joeynmt.prediction - Process device: cuda, n_gpu: 1, batch_size per device: 3600\n",
            "2021-10-14 12:57:08,149 - INFO - joeynmt.prediction - Loading model from models/igen_reverse_transformer/39000.ckpt\n",
            "2021-10-14 12:57:11,011 - INFO - joeynmt.model - Building an encoder-decoder model...\n",
            "2021-10-14 12:57:11,194 - INFO - joeynmt.model - Enc-dec model built.\n",
            "2021-10-14 12:57:11,259 - INFO - joeynmt.prediction - Decoding on dev set (data/igen/dev.bpe.en)...\n",
            "2021-10-14 12:57:46,482 - WARNING - sacrebleu - That's 100 lines that end in a tokenized period ('.')\n",
            "2021-10-14 12:57:46,482 - WARNING - sacrebleu - It looks like you forgot to detokenize your test data, which may hurt your score.\n",
            "2021-10-14 12:57:46,482 - WARNING - sacrebleu - If you insist your data is detokenized, or don't care, you can suppress this message with the `force` parameter.\n",
            "2021-10-14 12:57:46,486 - INFO - joeynmt.prediction -  dev bleu[13a]:  23.47 [Beam search decoding with beam size = 5 and alpha = 1.0]\n",
            "2021-10-14 12:57:46,486 - INFO - joeynmt.prediction - Decoding on test set (data/igen/test.bpe.en)...\n",
            "2021-10-14 12:58:48,990 - WARNING - sacrebleu - That's 100 lines that end in a tokenized period ('.')\n",
            "2021-10-14 12:58:48,991 - WARNING - sacrebleu - It looks like you forgot to detokenize your test data, which may hurt your score.\n",
            "2021-10-14 12:58:48,991 - WARNING - sacrebleu - If you insist your data is detokenized, or don't care, you can suppress this message with the `force` parameter.\n",
            "2021-10-14 12:58:49,001 - INFO - joeynmt.prediction - test bleu[13a]:  26.07 [Beam search decoding with beam size = 5 and alpha = 1.0]\n"
          ]
        }
      ]
    },
    {
      "cell_type": "code",
      "metadata": {
        "id": "19mhJyFrTRBI"
      },
      "source": [
        ""
      ],
      "execution_count": null,
      "outputs": []
    }
  ]
}